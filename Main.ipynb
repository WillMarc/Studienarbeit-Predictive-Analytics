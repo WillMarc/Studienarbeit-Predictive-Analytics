{
 "cells": [
  {
   "cell_type": "markdown",
   "id": "08d2fc2d-a6a4-45f0-8a51-3efa384fc381",
   "metadata": {},
   "source": [
    "<h1>Studienarbeit: Predictive Analytics</h1>\n",
    "<b>Personen:</b> Luise Fabich / Vinh-Phnong Nguyen / Marc Willberg"
   ]
  },
  {
   "cell_type": "markdown",
   "id": "e23023fd-ec9c-48cd-be57-f9414eb8c9fa",
   "metadata": {},
   "source": [
    "<h2>Vorhersage des Trinkgelds der gelben Taxis in New York anhand von verschiedenen Faktoren:</h2>\n",
    "Ziel ist es, ein Modell zu entwickeln, das die zu erwartenden Trinkgelder auf der Grundlage verschiedener Faktoren wie Fahrtdauer, Tageszeit und Zielort vorhersagt. Die Datenbasis bildet hierbei die Taxifahrten der gelben Taxis in New York aus dem Jahr 2023."
   ]
  },
  {
   "cell_type": "markdown",
   "id": "0a1d69ff-aeb6-4efb-b9b1-7ef774d49fe1",
   "metadata": {},
   "source": [
    "<h1>Laden der Datensätze:</h1>\n",
    "<p>Die zu analysierenden Daten sind unter der folgenden Webseite zu finden:</p>\n",
    "<p>Page: <a href=\"https://www.nyc.gov/site/tlc/about/tlc-trip-record-data.page\" target=\"_blank\">TLC Trip Record Data</a></p>"
   ]
  },
  {
   "cell_type": "code",
   "execution_count": 1,
   "id": "8de3e454-0be6-475e-bacc-b3ad5c1a632b",
   "metadata": {},
   "outputs": [
    {
     "name": "stdout",
     "output_type": "stream",
     "text": [
      "Folgende Daten wurden gefunden:\n",
      "C:\\Users\\Marc Willberg\\Studienarbeit_Predictive_Analytics\\Data_Taxi_Trip_NY\\2023\\yellow_tripdata_2023-01.parquet\n",
      "C:\\Users\\Marc Willberg\\Studienarbeit_Predictive_Analytics\\Data_Taxi_Trip_NY\\2023\\yellow_tripdata_2023-02.parquet\n",
      "C:\\Users\\Marc Willberg\\Studienarbeit_Predictive_Analytics\\Data_Taxi_Trip_NY\\2023\\yellow_tripdata_2023-03.parquet\n",
      "C:\\Users\\Marc Willberg\\Studienarbeit_Predictive_Analytics\\Data_Taxi_Trip_NY\\2023\\yellow_tripdata_2023-04.parquet\n",
      "C:\\Users\\Marc Willberg\\Studienarbeit_Predictive_Analytics\\Data_Taxi_Trip_NY\\2023\\yellow_tripdata_2023-05.parquet\n",
      "C:\\Users\\Marc Willberg\\Studienarbeit_Predictive_Analytics\\Data_Taxi_Trip_NY\\2023\\yellow_tripdata_2023-06.parquet\n",
      "C:\\Users\\Marc Willberg\\Studienarbeit_Predictive_Analytics\\Data_Taxi_Trip_NY\\2023\\yellow_tripdata_2023-07.parquet\n",
      "C:\\Users\\Marc Willberg\\Studienarbeit_Predictive_Analytics\\Data_Taxi_Trip_NY\\2023\\yellow_tripdata_2023-08.parquet\n",
      "C:\\Users\\Marc Willberg\\Studienarbeit_Predictive_Analytics\\Data_Taxi_Trip_NY\\2023\\yellow_tripdata_2023-09.parquet\n",
      "C:\\Users\\Marc Willberg\\Studienarbeit_Predictive_Analytics\\Data_Taxi_Trip_NY\\2023\\yellow_tripdata_2023-10.parquet\n",
      "C:\\Users\\Marc Willberg\\Studienarbeit_Predictive_Analytics\\Data_Taxi_Trip_NY\\2023\\yellow_tripdata_2023-11.parquet\n",
      "C:\\Users\\Marc Willberg\\Studienarbeit_Predictive_Analytics\\Data_Taxi_Trip_NY\\2023\\yellow_tripdata_2023-12.parquet\n"
     ]
    }
   ],
   "source": [
    "import os\n",
    "\n",
    "year = 2023\n",
    "\n",
    "# Laden des Verzeichnisses\n",
    "path = f'C:\\\\Users\\\\Marc Willberg\\\\Studienarbeit_Predictive_Analytics\\\\Data_Taxi_Trip_NY'\n",
    "year_directory = os.path.join(path, f'{year}')\n",
    "\n",
    "# Ausgabe aller gefundenen .parquet-Dateien\n",
    "print(\"Folgende Daten wurden gefunden:\")\n",
    "parquet_files = [os.path.join(year_directory, file) for file in os.listdir(year_directory) if file.endswith('.parquet')]\n",
    "for file in parquet_files:\n",
    "    print(file)"
   ]
  },
  {
   "cell_type": "markdown",
   "id": "08743171-2e67-4516-8124-a99ad9a2954a",
   "metadata": {},
   "source": [
    "\n",
    "<h2>Einsicht auf Rohdaten:</h2>\n",
    "<p>Für einen Einblick der Rohdaten werden aus der ersten Datei die ersten 5 Spalten geladen.</p>\n",
    "<p>Erklärung der Datensätze: <a href=\"https://www.nyc.gov/assets/tlc/downloads/pdf/data_dictionary_trip_records_yellow.pdf\" target=\"_blank\">Data Dictionary – Yellow Taxi Trip Records</a></p>\n",
    "\n"
   ]
  },
  {
   "cell_type": "code",
   "execution_count": 2,
   "id": "57cfc4de-9ef8-4adf-90d3-051a3222bc41",
   "metadata": {},
   "outputs": [
    {
     "data": {
      "text/html": [
       "<div>\n",
       "<style scoped>\n",
       "    .dataframe tbody tr th:only-of-type {\n",
       "        vertical-align: middle;\n",
       "    }\n",
       "\n",
       "    .dataframe tbody tr th {\n",
       "        vertical-align: top;\n",
       "    }\n",
       "\n",
       "    .dataframe thead th {\n",
       "        text-align: right;\n",
       "    }\n",
       "</style>\n",
       "<table border=\"1\" class=\"dataframe\">\n",
       "  <thead>\n",
       "    <tr style=\"text-align: right;\">\n",
       "      <th></th>\n",
       "      <th>0</th>\n",
       "      <th>1</th>\n",
       "      <th>2</th>\n",
       "      <th>3</th>\n",
       "      <th>4</th>\n",
       "    </tr>\n",
       "  </thead>\n",
       "  <tbody>\n",
       "    <tr>\n",
       "      <th>VendorID</th>\n",
       "      <td>2</td>\n",
       "      <td>2</td>\n",
       "      <td>2</td>\n",
       "      <td>1</td>\n",
       "      <td>2</td>\n",
       "    </tr>\n",
       "    <tr>\n",
       "      <th>tpep_pickup_datetime</th>\n",
       "      <td>2023-01-01 00:32:10</td>\n",
       "      <td>2023-01-01 00:55:08</td>\n",
       "      <td>2023-01-01 00:25:04</td>\n",
       "      <td>2023-01-01 00:03:48</td>\n",
       "      <td>2023-01-01 00:10:29</td>\n",
       "    </tr>\n",
       "    <tr>\n",
       "      <th>tpep_dropoff_datetime</th>\n",
       "      <td>2023-01-01 00:40:36</td>\n",
       "      <td>2023-01-01 01:01:27</td>\n",
       "      <td>2023-01-01 00:37:49</td>\n",
       "      <td>2023-01-01 00:13:25</td>\n",
       "      <td>2023-01-01 00:21:19</td>\n",
       "    </tr>\n",
       "    <tr>\n",
       "      <th>passenger_count</th>\n",
       "      <td>1.0</td>\n",
       "      <td>1.0</td>\n",
       "      <td>1.0</td>\n",
       "      <td>0.0</td>\n",
       "      <td>1.0</td>\n",
       "    </tr>\n",
       "    <tr>\n",
       "      <th>trip_distance</th>\n",
       "      <td>0.97</td>\n",
       "      <td>1.1</td>\n",
       "      <td>2.51</td>\n",
       "      <td>1.9</td>\n",
       "      <td>1.43</td>\n",
       "    </tr>\n",
       "    <tr>\n",
       "      <th>RatecodeID</th>\n",
       "      <td>1.0</td>\n",
       "      <td>1.0</td>\n",
       "      <td>1.0</td>\n",
       "      <td>1.0</td>\n",
       "      <td>1.0</td>\n",
       "    </tr>\n",
       "    <tr>\n",
       "      <th>store_and_fwd_flag</th>\n",
       "      <td>N</td>\n",
       "      <td>N</td>\n",
       "      <td>N</td>\n",
       "      <td>N</td>\n",
       "      <td>N</td>\n",
       "    </tr>\n",
       "    <tr>\n",
       "      <th>PULocationID</th>\n",
       "      <td>161</td>\n",
       "      <td>43</td>\n",
       "      <td>48</td>\n",
       "      <td>138</td>\n",
       "      <td>107</td>\n",
       "    </tr>\n",
       "    <tr>\n",
       "      <th>DOLocationID</th>\n",
       "      <td>141</td>\n",
       "      <td>237</td>\n",
       "      <td>238</td>\n",
       "      <td>7</td>\n",
       "      <td>79</td>\n",
       "    </tr>\n",
       "    <tr>\n",
       "      <th>payment_type</th>\n",
       "      <td>2</td>\n",
       "      <td>1</td>\n",
       "      <td>1</td>\n",
       "      <td>1</td>\n",
       "      <td>1</td>\n",
       "    </tr>\n",
       "    <tr>\n",
       "      <th>fare_amount</th>\n",
       "      <td>9.3</td>\n",
       "      <td>7.9</td>\n",
       "      <td>14.9</td>\n",
       "      <td>12.1</td>\n",
       "      <td>11.4</td>\n",
       "    </tr>\n",
       "    <tr>\n",
       "      <th>extra</th>\n",
       "      <td>1.0</td>\n",
       "      <td>1.0</td>\n",
       "      <td>1.0</td>\n",
       "      <td>7.25</td>\n",
       "      <td>1.0</td>\n",
       "    </tr>\n",
       "    <tr>\n",
       "      <th>mta_tax</th>\n",
       "      <td>0.5</td>\n",
       "      <td>0.5</td>\n",
       "      <td>0.5</td>\n",
       "      <td>0.5</td>\n",
       "      <td>0.5</td>\n",
       "    </tr>\n",
       "    <tr>\n",
       "      <th>tip_amount</th>\n",
       "      <td>0.0</td>\n",
       "      <td>4.0</td>\n",
       "      <td>15.0</td>\n",
       "      <td>0.0</td>\n",
       "      <td>3.28</td>\n",
       "    </tr>\n",
       "    <tr>\n",
       "      <th>tolls_amount</th>\n",
       "      <td>0.0</td>\n",
       "      <td>0.0</td>\n",
       "      <td>0.0</td>\n",
       "      <td>0.0</td>\n",
       "      <td>0.0</td>\n",
       "    </tr>\n",
       "    <tr>\n",
       "      <th>improvement_surcharge</th>\n",
       "      <td>1.0</td>\n",
       "      <td>1.0</td>\n",
       "      <td>1.0</td>\n",
       "      <td>1.0</td>\n",
       "      <td>1.0</td>\n",
       "    </tr>\n",
       "    <tr>\n",
       "      <th>total_amount</th>\n",
       "      <td>14.3</td>\n",
       "      <td>16.9</td>\n",
       "      <td>34.9</td>\n",
       "      <td>20.85</td>\n",
       "      <td>19.68</td>\n",
       "    </tr>\n",
       "    <tr>\n",
       "      <th>congestion_surcharge</th>\n",
       "      <td>2.5</td>\n",
       "      <td>2.5</td>\n",
       "      <td>2.5</td>\n",
       "      <td>0.0</td>\n",
       "      <td>2.5</td>\n",
       "    </tr>\n",
       "    <tr>\n",
       "      <th>airport_fee</th>\n",
       "      <td>0.0</td>\n",
       "      <td>0.0</td>\n",
       "      <td>0.0</td>\n",
       "      <td>1.25</td>\n",
       "      <td>0.0</td>\n",
       "    </tr>\n",
       "  </tbody>\n",
       "</table>\n",
       "</div>"
      ],
      "text/plain": [
       "                                         0                    1  \\\n",
       "VendorID                                 2                    2   \n",
       "tpep_pickup_datetime   2023-01-01 00:32:10  2023-01-01 00:55:08   \n",
       "tpep_dropoff_datetime  2023-01-01 00:40:36  2023-01-01 01:01:27   \n",
       "passenger_count                        1.0                  1.0   \n",
       "trip_distance                         0.97                  1.1   \n",
       "RatecodeID                             1.0                  1.0   \n",
       "store_and_fwd_flag                       N                    N   \n",
       "PULocationID                           161                   43   \n",
       "DOLocationID                           141                  237   \n",
       "payment_type                             2                    1   \n",
       "fare_amount                            9.3                  7.9   \n",
       "extra                                  1.0                  1.0   \n",
       "mta_tax                                0.5                  0.5   \n",
       "tip_amount                             0.0                  4.0   \n",
       "tolls_amount                           0.0                  0.0   \n",
       "improvement_surcharge                  1.0                  1.0   \n",
       "total_amount                          14.3                 16.9   \n",
       "congestion_surcharge                   2.5                  2.5   \n",
       "airport_fee                            0.0                  0.0   \n",
       "\n",
       "                                         2                    3  \\\n",
       "VendorID                                 2                    1   \n",
       "tpep_pickup_datetime   2023-01-01 00:25:04  2023-01-01 00:03:48   \n",
       "tpep_dropoff_datetime  2023-01-01 00:37:49  2023-01-01 00:13:25   \n",
       "passenger_count                        1.0                  0.0   \n",
       "trip_distance                         2.51                  1.9   \n",
       "RatecodeID                             1.0                  1.0   \n",
       "store_and_fwd_flag                       N                    N   \n",
       "PULocationID                            48                  138   \n",
       "DOLocationID                           238                    7   \n",
       "payment_type                             1                    1   \n",
       "fare_amount                           14.9                 12.1   \n",
       "extra                                  1.0                 7.25   \n",
       "mta_tax                                0.5                  0.5   \n",
       "tip_amount                            15.0                  0.0   \n",
       "tolls_amount                           0.0                  0.0   \n",
       "improvement_surcharge                  1.0                  1.0   \n",
       "total_amount                          34.9                20.85   \n",
       "congestion_surcharge                   2.5                  0.0   \n",
       "airport_fee                            0.0                 1.25   \n",
       "\n",
       "                                         4  \n",
       "VendorID                                 2  \n",
       "tpep_pickup_datetime   2023-01-01 00:10:29  \n",
       "tpep_dropoff_datetime  2023-01-01 00:21:19  \n",
       "passenger_count                        1.0  \n",
       "trip_distance                         1.43  \n",
       "RatecodeID                             1.0  \n",
       "store_and_fwd_flag                       N  \n",
       "PULocationID                           107  \n",
       "DOLocationID                            79  \n",
       "payment_type                             1  \n",
       "fare_amount                           11.4  \n",
       "extra                                  1.0  \n",
       "mta_tax                                0.5  \n",
       "tip_amount                            3.28  \n",
       "tolls_amount                           0.0  \n",
       "improvement_surcharge                  1.0  \n",
       "total_amount                         19.68  \n",
       "congestion_surcharge                   2.5  \n",
       "airport_fee                            0.0  "
      ]
     },
     "metadata": {},
     "output_type": "display_data"
    }
   ],
   "source": [
    "from IPython.display import display\n",
    "import pandas as pd\n",
    "\n",
    "# Laden der ersten .parquet-Datei\n",
    "first_file = parquet_files[0]\n",
    "df = pd.read_parquet(first_file)\n",
    "\n",
    "# Anzeige der ersten 7 Spalten\n",
    "df_head = df.iloc[:5, :].T\n",
    "display(df_head)"
   ]
  },
  {
   "cell_type": "markdown",
   "id": "ba574b2e-7813-457f-ad7a-b7877293b5ce",
   "metadata": {},
   "source": [
    "<h2>Größe der Datensätze:</h2>\n",
    "Um einen ersten Überblick über die relevanten Größen zu erhalten, werden die Datengrößen zunächst analysiert. Um einen groben Eindruck zu erhalten wird hierfür der <b>Mai des Jahres 2023</b> betrachtet.\n",
    "Es wird erkenntlich das pro Monat ca. 3 Millionen Fahrten gemacht werden. Dies entspricht ca. 100.000 Fahrten pro Tag."
   ]
  },
  {
   "cell_type": "code",
   "execution_count": 3,
   "id": "98176cfc-8f6e-49b4-9c6a-4f1ec1b59797",
   "metadata": {},
   "outputs": [
    {
     "data": {
      "image/png": "[encoded data removed]",
      "text/plain": [
       "<Figure size 1000x500 with 1 Axes>"
      ]
     },
     "metadata": {},
     "output_type": "display_data"
    }
   ],
   "source": [
    "import pandas as pd\n",
    "from matplotlib import pyplot as plt\n",
    "from datetime import timedelta, date\n",
    "import calendar\n",
    "\n",
    "def counts_day_trips_for_month(data, year, month):\n",
    "    start_date = date(year, month, 1)\n",
    "    end_date = date(year, month, calendar.monthrange(year, month)[1])\n",
    "\n",
    "    # Konvertierung der Datumsspalte\n",
    "    data['tpep_pickup_datetime'] = data['tpep_pickup_datetime'].dt.date\n",
    "\n",
    "    # Initialisierung der Liste für die Ergebnisse\n",
    "    count_list = []\n",
    "\n",
    "    # Durchlauf der Daten und Aufteilung in Tagen\n",
    "    for current_date in pd.date_range(start_date, end_date):\n",
    "        count = (data['tpep_pickup_datetime'] == current_date.date()).sum()\n",
    "        count_list.append((current_date.date(), count))\n",
    "\n",
    "    return count_list\n",
    "\n",
    "# Auswahl Monat, Jahr, Pfad\n",
    "month = 5\n",
    "year = 2023\n",
    "path = 'C:\\\\Users\\\\Marc Willberg\\\\Studienarbeit_Predictive_Analytics\\\\Data_Taxi_Trip_NY\\\\2023\\\\yellow_tripdata_2023-05.parquet'\n",
    "\n",
    "# Daten laden des Monats\n",
    "data = pd.read_parquet(path)\n",
    "\n",
    "# Laden der Fahrten je Tage\n",
    "list_day_trips = counts_day_trips_for_month(data, year, month)\n",
    "\n",
    "# Gesamtanzahl der Fahrten\n",
    "total_trips = sum(item[1] for item in list_day_trips)\n",
    "\n",
    "# Chart\n",
    "x_data = [item[0] for item in list_day_trips]\n",
    "y_data = [item[1] for item in list_day_trips]\n",
    "plt.figure(figsize=(10, 5))\n",
    "plt.plot(x_data, y_data, marker='o', linestyle='-')\n",
    "plt.title(f'Anzahl der Fahrten pro Tag im Mai 2023 (Gesamt: {total_trips})')\n",
    "plt.xlabel('Datum')\n",
    "plt.ylabel('Anzahl an Fahrten')\n",
    "plt.grid(True)\n",
    "plt.xticks(rotation=45)\n",
    "plt.tight_layout()\n",
    "plt.show()\n"
   ]
  },
  {
   "cell_type": "markdown",
   "id": "04d4325e-1038-4435-a642-59e6d4d64902",
   "metadata": {},
   "source": [
    "<h2>Vorbereitung der Daten:</h2>\n",
    "Zunächst werden die Daten vorbereitet um Algorithmen auf diesen anzuwenden."
   ]
  },
  {
   "cell_type": "code",
   "execution_count": 4,
   "id": "5ac6594f-c181-4103-b1ee-64bdaf810d26",
   "metadata": {},
   "outputs": [],
   "source": [
    "class TaxiTripFeatures:\n",
    "    def __init__(self, travel_time,start_month, start_day, start_hour, weekday, passenger_count, trip_distance, PULocationID, DOLocationID, tip_amount, total_amount_without_tip):\n",
    "        self.travel_time = travel_time                           #Fahrtzeit in Sekunden\n",
    "        self.start_day = start_day                               #Tag in dem das Taxi gestartet hat\n",
    "        self.start_hour = start_hour                             #Stunde in dem das Taxi gestartet hat\n",
    "        self.weekday = weekday                                   #Wochentag als int in dem das Taxi gestartet hat\n",
    "        self.passenger_count = passenger_count                   #Anzahl der Passagiere\n",
    "        self.trip_distance = trip_distance                       #Fahrtdistanz in Meilen \n",
    "        self.PULocationID = PULocationID                         #StartID Standort\n",
    "        self.DOLocationID = DOLocationID                         #ZielID Standort\n",
    "        self.tip_amount = tip_amount                             #Trinkgeld\n",
    "        self.total_amount_without_tip = total_amount_without_tip #Gesamtbetrag ohne Trinkgeld\n",
    "\n",
    "    def __repr__(self):\n",
    "        return (f\"TaxiTripFeatures(travel_time={self.travel_time}, start_day={self.start_day}, \"\n",
    "                f\"start_hour={self.start_hour}, weekday={self.weekday}, passenger_count={self.passenger_count}, \"\n",
    "                f\"trip_distance={self.trip_distance}, PULocationID={self.PULocationID}, DOLocationID={self.DOLocationID}, \"\n",
    "                f\"tip_amount={self.tip_amount}, total_amount_without_tip={self.total_amount_without_tip})\")"
   ]
  },
  {
   "cell_type": "markdown",
   "id": "47a1b76e-1f31-483f-a099-3cce6310f1ea",
   "metadata": {},
   "source": [
    "<h2>Analyse der Datengröße:</h2>"
   ]
  },
  {
   "cell_type": "markdown",
   "id": "f07ad7bd-0b0b-42e2-bf8a-6e56e49a9915",
   "metadata": {},
   "source": [
    "<h3>Laden der gesamten Daten:</h3>\n",
    "Um eine gute Stichprobe der Datensätze zu ermitteln werden zunächst alle Datensätze benötigt. Hierzu ist zu beachten das nur Datensätze geladen werden die nicht leer sind und wo mit Kreditkarte gezahlt wurde. Dies hat den Grund da bei Bahrzahlung das Trinkgeld nicht angegeben wurde."
   ]
  },
  {
   "cell_type": "code",
   "execution_count": 5,
   "id": "39450e38-017d-4eff-9acc-13dae740e2bc",
   "metadata": {},
   "outputs": [
    {
     "name": "stdout",
     "output_type": "stream",
     "text": [
      "Zufällig ausgewählte Datei: C:\\Users\\Marc Willberg\\Studienarbeit_Predictive_Analytics\\Data_Taxi_Trip_NY\\2023\\yellow_tripdata_2023-08.parquet\n",
      "\n",
      "Data loading complete! Total time taken: 190.14 seconds.\n",
      "Anzahl geladener Datensätze: 2151468\n"
     ]
    }
   ],
   "source": [
    "import pandas as pd\n",
    "from concurrent.futures import ThreadPoolExecutor, as_completed\n",
    "import time\n",
    "import random\n",
    "\n",
    "def load_features_from_file(file_path):\n",
    "    data = pd.read_parquet(file_path, engine='auto')\n",
    "    data['tpep_pickup_datetime'] = pd.to_datetime(data['tpep_pickup_datetime'])\n",
    "    data['tpep_dropoff_datetime'] = pd.to_datetime(data['tpep_dropoff_datetime'])\n",
    "    \n",
    "    # Filter data to include only credit card payments and drop rows with any missing values\n",
    "    data = data[data['payment_type'] == 1].dropna()\n",
    "\n",
    "    # Drop rows with any missing values\n",
    "    data = data.dropna()\n",
    "\n",
    "    features = [\n",
    "        TaxiTripFeatures(\n",
    "            (row['tpep_dropoff_datetime'] - row['tpep_pickup_datetime']).total_seconds(),\n",
    "            row['tpep_pickup_datetime'].month,\n",
    "            row['tpep_pickup_datetime'].day,\n",
    "            row['tpep_pickup_datetime'].hour,\n",
    "            row['tpep_pickup_datetime'].weekday(),\n",
    "            row['passenger_count'],\n",
    "            row['trip_distance'],\n",
    "            row['PULocationID'],\n",
    "            row['DOLocationID'],\n",
    "            row['tip_amount'],\n",
    "            row['total_amount'] - row['tip_amount']\n",
    "        ) for _, row in data.iterrows()\n",
    "    ]\n",
    "    \n",
    "    return features\n",
    "\n",
    "# Wähle eine zufällige Datei aus der Liste\n",
    "random_file = random.choice(parquet_files)\n",
    "print(f\"Zufällig ausgewählte Datei: {random_file}\")\n",
    "\n",
    "# Lade alle Daten aus der zufällig ausgewählten Datei\n",
    "start_time = time.time()\n",
    "features_list = load_features_from_file(random_file)\n",
    "end_time = time.time()\n",
    "\n",
    "print(f\"\\nData loading complete! Total time taken: {end_time - start_time:.2f} seconds.\")\n",
    "print(f\"Anzahl geladener Datensätze: {len(features_list)}\")\n"
   ]
  },
  {
   "cell_type": "markdown",
   "id": "3165ef6e-ace4-4813-9372-a6b7fefa9ab7",
   "metadata": {},
   "source": [
    "<h3>Festlegung der Strichprobe mit KS-Test:</h3>\n",
    "Für die nächsten Schritte wird aus dem Jahr 2023 ein Monatsdatensatz als Stichprobe verwendet. Dies ermöglicht es, effizient Muster und Trends zu analysieren, ohne das gesamte Jahr betrachten zu müssen. Ein einzelner Monat bietet ausreichend Daten, um eine gute Aussage im Vergleich zu anderen Monaten zu treffen. Als Stichprobe betrachten wir ca. 5% der Daten. Daher wird von jedem Tag eine Stichprobe von 5.000 Datensätzen verwendet. Dies sollte pro Monat eine Stichprobengröße von ca. 150.000 Datensätzen ergeben.\n",
    "\n",
    "Es wird versucht, eine Stichprobe zu erstellen, die eine ähnliche Verteilung aufweist wie die gesamten Daten, um spätere Aussagen zu den Daten nicht zu verfälschen. Hierzu wird der <b>Kolmogorov-Smirnov-Tests (KS-Test)</b> verwendet.\n",
    "\n",
    "Tage für die kein p-Wert > 0.1 bestimmt werden kann werden ausgeschieden, da es signifikanten Unterschied zwischen den Verteilungen gibt.\n"
   ]
  },
  {
   "cell_type": "code",
   "execution_count": null,
   "id": "b1bf5ee3-3f6f-4cc4-a6ed-af5bc2fa4db9",
   "metadata": {},
   "outputs": [
    {
     "name": "stderr",
     "output_type": "stream",
     "text": [
      "C:\\Users\\Marc Willberg\\AppData\\Local\\Temp\\ipykernel_26692\\1030897953.py:12: DeprecationWarning: DataFrameGroupBy.apply operated on the grouping columns. This behavior is deprecated, and in a future version of pandas the grouping columns will be excluded from the operation. Either pass `include_groups=False` to exclude the groupings or explicitly select the grouping columns after groupby to silence this warning.\n",
      "  sampled_data = data.groupby('start_day', group_keys=False).apply(\n"
     ]
    },
    {
     "name": "stdout",
     "output_type": "stream",
     "text": [
      "Fortschritt: 1.00%"
     ]
    },
    {
     "name": "stderr",
     "output_type": "stream",
     "text": [
      "C:\\Users\\Marc Willberg\\AppData\\Local\\Temp\\ipykernel_26692\\1030897953.py:12: DeprecationWarning: DataFrameGroupBy.apply operated on the grouping columns. This behavior is deprecated, and in a future version of pandas the grouping columns will be excluded from the operation. Either pass `include_groups=False` to exclude the groupings or explicitly select the grouping columns after groupby to silence this warning.\n",
      "  sampled_data = data.groupby('start_day', group_keys=False).apply(\n"
     ]
    },
    {
     "name": "stdout",
     "output_type": "stream",
     "text": [
      "Fortschritt: 2.00%"
     ]
    },
    {
     "name": "stderr",
     "output_type": "stream",
     "text": [
      "C:\\Users\\Marc Willberg\\AppData\\Local\\Temp\\ipykernel_26692\\1030897953.py:12: DeprecationWarning: DataFrameGroupBy.apply operated on the grouping columns. This behavior is deprecated, and in a future version of pandas the grouping columns will be excluded from the operation. Either pass `include_groups=False` to exclude the groupings or explicitly select the grouping columns after groupby to silence this warning.\n",
      "  sampled_data = data.groupby('start_day', group_keys=False).apply(\n"
     ]
    },
    {
     "name": "stdout",
     "output_type": "stream",
     "text": [
      "Fortschritt: 3.00%"
     ]
    },
    {
     "name": "stderr",
     "output_type": "stream",
     "text": [
      "C:\\Users\\Marc Willberg\\AppData\\Local\\Temp\\ipykernel_26692\\1030897953.py:12: DeprecationWarning: DataFrameGroupBy.apply operated on the grouping columns. This behavior is deprecated, and in a future version of pandas the grouping columns will be excluded from the operation. Either pass `include_groups=False` to exclude the groupings or explicitly select the grouping columns after groupby to silence this warning.\n",
      "  sampled_data = data.groupby('start_day', group_keys=False).apply(\n"
     ]
    },
    {
     "name": "stdout",
     "output_type": "stream",
     "text": [
      "Fortschritt: 4.00%"
     ]
    },
    {
     "name": "stderr",
     "output_type": "stream",
     "text": [
      "C:\\Users\\Marc Willberg\\AppData\\Local\\Temp\\ipykernel_26692\\1030897953.py:12: DeprecationWarning: DataFrameGroupBy.apply operated on the grouping columns. This behavior is deprecated, and in a future version of pandas the grouping columns will be excluded from the operation. Either pass `include_groups=False` to exclude the groupings or explicitly select the grouping columns after groupby to silence this warning.\n",
      "  sampled_data = data.groupby('start_day', group_keys=False).apply(\n"
     ]
    },
    {
     "name": "stdout",
     "output_type": "stream",
     "text": [
      "Fortschritt: 5.00%"
     ]
    },
    {
     "name": "stderr",
     "output_type": "stream",
     "text": [
      "C:\\Users\\Marc Willberg\\AppData\\Local\\Temp\\ipykernel_26692\\1030897953.py:12: DeprecationWarning: DataFrameGroupBy.apply operated on the grouping columns. This behavior is deprecated, and in a future version of pandas the grouping columns will be excluded from the operation. Either pass `include_groups=False` to exclude the groupings or explicitly select the grouping columns after groupby to silence this warning.\n",
      "  sampled_data = data.groupby('start_day', group_keys=False).apply(\n"
     ]
    },
    {
     "name": "stdout",
     "output_type": "stream",
     "text": [
      "Fortschritt: 6.00%"
     ]
    },
    {
     "name": "stderr",
     "output_type": "stream",
     "text": [
      "C:\\Users\\Marc Willberg\\AppData\\Local\\Temp\\ipykernel_26692\\1030897953.py:12: DeprecationWarning: DataFrameGroupBy.apply operated on the grouping columns. This behavior is deprecated, and in a future version of pandas the grouping columns will be excluded from the operation. Either pass `include_groups=False` to exclude the groupings or explicitly select the grouping columns after groupby to silence this warning.\n",
      "  sampled_data = data.groupby('start_day', group_keys=False).apply(\n"
     ]
    },
    {
     "name": "stdout",
     "output_type": "stream",
     "text": [
      "Fortschritt: 7.00%"
     ]
    },
    {
     "name": "stderr",
     "output_type": "stream",
     "text": [
      "C:\\Users\\Marc Willberg\\AppData\\Local\\Temp\\ipykernel_26692\\1030897953.py:12: DeprecationWarning: DataFrameGroupBy.apply operated on the grouping columns. This behavior is deprecated, and in a future version of pandas the grouping columns will be excluded from the operation. Either pass `include_groups=False` to exclude the groupings or explicitly select the grouping columns after groupby to silence this warning.\n",
      "  sampled_data = data.groupby('start_day', group_keys=False).apply(\n"
     ]
    },
    {
     "name": "stdout",
     "output_type": "stream",
     "text": [
      "Fortschritt: 8.00%"
     ]
    },
    {
     "name": "stderr",
     "output_type": "stream",
     "text": [
      "C:\\Users\\Marc Willberg\\AppData\\Local\\Temp\\ipykernel_26692\\1030897953.py:12: DeprecationWarning: DataFrameGroupBy.apply operated on the grouping columns. This behavior is deprecated, and in a future version of pandas the grouping columns will be excluded from the operation. Either pass `include_groups=False` to exclude the groupings or explicitly select the grouping columns after groupby to silence this warning.\n",
      "  sampled_data = data.groupby('start_day', group_keys=False).apply(\n"
     ]
    },
    {
     "name": "stdout",
     "output_type": "stream",
     "text": [
      "Fortschritt: 9.00%"
     ]
    },
    {
     "name": "stderr",
     "output_type": "stream",
     "text": [
      "C:\\Users\\Marc Willberg\\AppData\\Local\\Temp\\ipykernel_26692\\1030897953.py:12: DeprecationWarning: DataFrameGroupBy.apply operated on the grouping columns. This behavior is deprecated, and in a future version of pandas the grouping columns will be excluded from the operation. Either pass `include_groups=False` to exclude the groupings or explicitly select the grouping columns after groupby to silence this warning.\n",
      "  sampled_data = data.groupby('start_day', group_keys=False).apply(\n"
     ]
    },
    {
     "name": "stdout",
     "output_type": "stream",
     "text": [
      "Fortschritt: 10.00%"
     ]
    },
    {
     "name": "stderr",
     "output_type": "stream",
     "text": [
      "C:\\Users\\Marc Willberg\\AppData\\Local\\Temp\\ipykernel_26692\\1030897953.py:12: DeprecationWarning: DataFrameGroupBy.apply operated on the grouping columns. This behavior is deprecated, and in a future version of pandas the grouping columns will be excluded from the operation. Either pass `include_groups=False` to exclude the groupings or explicitly select the grouping columns after groupby to silence this warning.\n",
      "  sampled_data = data.groupby('start_day', group_keys=False).apply(\n"
     ]
    },
    {
     "name": "stdout",
     "output_type": "stream",
     "text": [
      "Fortschritt: 11.00%"
     ]
    },
    {
     "name": "stderr",
     "output_type": "stream",
     "text": [
      "C:\\Users\\Marc Willberg\\AppData\\Local\\Temp\\ipykernel_26692\\1030897953.py:12: DeprecationWarning: DataFrameGroupBy.apply operated on the grouping columns. This behavior is deprecated, and in a future version of pandas the grouping columns will be excluded from the operation. Either pass `include_groups=False` to exclude the groupings or explicitly select the grouping columns after groupby to silence this warning.\n",
      "  sampled_data = data.groupby('start_day', group_keys=False).apply(\n"
     ]
    },
    {
     "name": "stdout",
     "output_type": "stream",
     "text": [
      "Fortschritt: 12.00%"
     ]
    },
    {
     "name": "stderr",
     "output_type": "stream",
     "text": [
      "C:\\Users\\Marc Willberg\\AppData\\Local\\Temp\\ipykernel_26692\\1030897953.py:12: DeprecationWarning: DataFrameGroupBy.apply operated on the grouping columns. This behavior is deprecated, and in a future version of pandas the grouping columns will be excluded from the operation. Either pass `include_groups=False` to exclude the groupings or explicitly select the grouping columns after groupby to silence this warning.\n",
      "  sampled_data = data.groupby('start_day', group_keys=False).apply(\n"
     ]
    },
    {
     "name": "stdout",
     "output_type": "stream",
     "text": [
      "Fortschritt: 13.00%"
     ]
    },
    {
     "name": "stderr",
     "output_type": "stream",
     "text": [
      "C:\\Users\\Marc Willberg\\AppData\\Local\\Temp\\ipykernel_26692\\1030897953.py:12: DeprecationWarning: DataFrameGroupBy.apply operated on the grouping columns. This behavior is deprecated, and in a future version of pandas the grouping columns will be excluded from the operation. Either pass `include_groups=False` to exclude the groupings or explicitly select the grouping columns after groupby to silence this warning.\n",
      "  sampled_data = data.groupby('start_day', group_keys=False).apply(\n"
     ]
    },
    {
     "name": "stdout",
     "output_type": "stream",
     "text": [
      "Fortschritt: 14.00%"
     ]
    },
    {
     "name": "stderr",
     "output_type": "stream",
     "text": [
      "C:\\Users\\Marc Willberg\\AppData\\Local\\Temp\\ipykernel_26692\\1030897953.py:12: DeprecationWarning: DataFrameGroupBy.apply operated on the grouping columns. This behavior is deprecated, and in a future version of pandas the grouping columns will be excluded from the operation. Either pass `include_groups=False` to exclude the groupings or explicitly select the grouping columns after groupby to silence this warning.\n",
      "  sampled_data = data.groupby('start_day', group_keys=False).apply(\n"
     ]
    },
    {
     "name": "stdout",
     "output_type": "stream",
     "text": [
      "Fortschritt: 15.00%"
     ]
    },
    {
     "name": "stderr",
     "output_type": "stream",
     "text": [
      "C:\\Users\\Marc Willberg\\AppData\\Local\\Temp\\ipykernel_26692\\1030897953.py:12: DeprecationWarning: DataFrameGroupBy.apply operated on the grouping columns. This behavior is deprecated, and in a future version of pandas the grouping columns will be excluded from the operation. Either pass `include_groups=False` to exclude the groupings or explicitly select the grouping columns after groupby to silence this warning.\n",
      "  sampled_data = data.groupby('start_day', group_keys=False).apply(\n"
     ]
    },
    {
     "name": "stdout",
     "output_type": "stream",
     "text": [
      "Fortschritt: 16.00%"
     ]
    },
    {
     "name": "stderr",
     "output_type": "stream",
     "text": [
      "C:\\Users\\Marc Willberg\\AppData\\Local\\Temp\\ipykernel_26692\\1030897953.py:12: DeprecationWarning: DataFrameGroupBy.apply operated on the grouping columns. This behavior is deprecated, and in a future version of pandas the grouping columns will be excluded from the operation. Either pass `include_groups=False` to exclude the groupings or explicitly select the grouping columns after groupby to silence this warning.\n",
      "  sampled_data = data.groupby('start_day', group_keys=False).apply(\n"
     ]
    },
    {
     "name": "stdout",
     "output_type": "stream",
     "text": [
      "Fortschritt: 17.00%"
     ]
    },
    {
     "name": "stderr",
     "output_type": "stream",
     "text": [
      "C:\\Users\\Marc Willberg\\AppData\\Local\\Temp\\ipykernel_26692\\1030897953.py:12: DeprecationWarning: DataFrameGroupBy.apply operated on the grouping columns. This behavior is deprecated, and in a future version of pandas the grouping columns will be excluded from the operation. Either pass `include_groups=False` to exclude the groupings or explicitly select the grouping columns after groupby to silence this warning.\n",
      "  sampled_data = data.groupby('start_day', group_keys=False).apply(\n"
     ]
    },
    {
     "name": "stdout",
     "output_type": "stream",
     "text": [
      "Fortschritt: 18.00%"
     ]
    },
    {
     "name": "stderr",
     "output_type": "stream",
     "text": [
      "C:\\Users\\Marc Willberg\\AppData\\Local\\Temp\\ipykernel_26692\\1030897953.py:12: DeprecationWarning: DataFrameGroupBy.apply operated on the grouping columns. This behavior is deprecated, and in a future version of pandas the grouping columns will be excluded from the operation. Either pass `include_groups=False` to exclude the groupings or explicitly select the grouping columns after groupby to silence this warning.\n",
      "  sampled_data = data.groupby('start_day', group_keys=False).apply(\n"
     ]
    },
    {
     "name": "stdout",
     "output_type": "stream",
     "text": [
      "Fortschritt: 19.00%"
     ]
    },
    {
     "name": "stderr",
     "output_type": "stream",
     "text": [
      "C:\\Users\\Marc Willberg\\AppData\\Local\\Temp\\ipykernel_26692\\1030897953.py:12: DeprecationWarning: DataFrameGroupBy.apply operated on the grouping columns. This behavior is deprecated, and in a future version of pandas the grouping columns will be excluded from the operation. Either pass `include_groups=False` to exclude the groupings or explicitly select the grouping columns after groupby to silence this warning.\n",
      "  sampled_data = data.groupby('start_day', group_keys=False).apply(\n"
     ]
    },
    {
     "name": "stdout",
     "output_type": "stream",
     "text": [
      "Fortschritt: 20.00%"
     ]
    },
    {
     "name": "stderr",
     "output_type": "stream",
     "text": [
      "C:\\Users\\Marc Willberg\\AppData\\Local\\Temp\\ipykernel_26692\\1030897953.py:12: DeprecationWarning: DataFrameGroupBy.apply operated on the grouping columns. This behavior is deprecated, and in a future version of pandas the grouping columns will be excluded from the operation. Either pass `include_groups=False` to exclude the groupings or explicitly select the grouping columns after groupby to silence this warning.\n",
      "  sampled_data = data.groupby('start_day', group_keys=False).apply(\n"
     ]
    },
    {
     "name": "stdout",
     "output_type": "stream",
     "text": [
      "Fortschritt: 21.00%"
     ]
    },
    {
     "name": "stderr",
     "output_type": "stream",
     "text": [
      "C:\\Users\\Marc Willberg\\AppData\\Local\\Temp\\ipykernel_26692\\1030897953.py:12: DeprecationWarning: DataFrameGroupBy.apply operated on the grouping columns. This behavior is deprecated, and in a future version of pandas the grouping columns will be excluded from the operation. Either pass `include_groups=False` to exclude the groupings or explicitly select the grouping columns after groupby to silence this warning.\n",
      "  sampled_data = data.groupby('start_day', group_keys=False).apply(\n"
     ]
    },
    {
     "name": "stdout",
     "output_type": "stream",
     "text": [
      "Fortschritt: 22.00%"
     ]
    },
    {
     "name": "stderr",
     "output_type": "stream",
     "text": [
      "C:\\Users\\Marc Willberg\\AppData\\Local\\Temp\\ipykernel_26692\\1030897953.py:12: DeprecationWarning: DataFrameGroupBy.apply operated on the grouping columns. This behavior is deprecated, and in a future version of pandas the grouping columns will be excluded from the operation. Either pass `include_groups=False` to exclude the groupings or explicitly select the grouping columns after groupby to silence this warning.\n",
      "  sampled_data = data.groupby('start_day', group_keys=False).apply(\n"
     ]
    },
    {
     "name": "stdout",
     "output_type": "stream",
     "text": [
      "Fortschritt: 23.00%"
     ]
    },
    {
     "name": "stderr",
     "output_type": "stream",
     "text": [
      "C:\\Users\\Marc Willberg\\AppData\\Local\\Temp\\ipykernel_26692\\1030897953.py:12: DeprecationWarning: DataFrameGroupBy.apply operated on the grouping columns. This behavior is deprecated, and in a future version of pandas the grouping columns will be excluded from the operation. Either pass `include_groups=False` to exclude the groupings or explicitly select the grouping columns after groupby to silence this warning.\n",
      "  sampled_data = data.groupby('start_day', group_keys=False).apply(\n"
     ]
    },
    {
     "name": "stdout",
     "output_type": "stream",
     "text": [
      "Fortschritt: 24.00%"
     ]
    },
    {
     "name": "stderr",
     "output_type": "stream",
     "text": [
      "C:\\Users\\Marc Willberg\\AppData\\Local\\Temp\\ipykernel_26692\\1030897953.py:12: DeprecationWarning: DataFrameGroupBy.apply operated on the grouping columns. This behavior is deprecated, and in a future version of pandas the grouping columns will be excluded from the operation. Either pass `include_groups=False` to exclude the groupings or explicitly select the grouping columns after groupby to silence this warning.\n",
      "  sampled_data = data.groupby('start_day', group_keys=False).apply(\n"
     ]
    },
    {
     "name": "stdout",
     "output_type": "stream",
     "text": [
      "Fortschritt: 25.00%"
     ]
    },
    {
     "name": "stderr",
     "output_type": "stream",
     "text": [
      "C:\\Users\\Marc Willberg\\AppData\\Local\\Temp\\ipykernel_26692\\1030897953.py:12: DeprecationWarning: DataFrameGroupBy.apply operated on the grouping columns. This behavior is deprecated, and in a future version of pandas the grouping columns will be excluded from the operation. Either pass `include_groups=False` to exclude the groupings or explicitly select the grouping columns after groupby to silence this warning.\n",
      "  sampled_data = data.groupby('start_day', group_keys=False).apply(\n"
     ]
    },
    {
     "name": "stdout",
     "output_type": "stream",
     "text": [
      "Fortschritt: 26.00%"
     ]
    },
    {
     "name": "stderr",
     "output_type": "stream",
     "text": [
      "C:\\Users\\Marc Willberg\\AppData\\Local\\Temp\\ipykernel_26692\\1030897953.py:12: DeprecationWarning: DataFrameGroupBy.apply operated on the grouping columns. This behavior is deprecated, and in a future version of pandas the grouping columns will be excluded from the operation. Either pass `include_groups=False` to exclude the groupings or explicitly select the grouping columns after groupby to silence this warning.\n",
      "  sampled_data = data.groupby('start_day', group_keys=False).apply(\n"
     ]
    }
   ],
   "source": [
    "import pandas as pd\n",
    "import numpy as np\n",
    "from scipy.stats import ks_2samp\n",
    "import time\n",
    "import matplotlib.pyplot as plt\n",
    "\n",
    "# Konvertieren Sie die Liste von TaxiTripFeatures-Objekten in einen DataFrame\n",
    "data = pd.DataFrame([vars(feature) for feature in features_list])\n",
    "\n",
    "# Funktionen zum Ziehen von Stichproben\n",
    "def sample_data_per_day(data, sample_size_per_day=10000):\n",
    "    sampled_data = data.groupby('start_day', group_keys=False).apply(\n",
    "        lambda x: x.sample(n=sample_size_per_day, random_state=42) if len(x) > sample_size_per_day else x\n",
    "    ).reset_index(drop=True)\n",
    "    return sampled_data\n",
    "\n",
    "# Kolmogorov-Smirnov-Test für alle Merkmale durchführen\n",
    "def ks_test(data, sample):\n",
    "    ks_results = {}\n",
    "    for column in data.columns:\n",
    "        if data[column].dtype in [np.float64, np.int64]:\n",
    "            statistic, p_value = ks_2samp(data[column].dropna(), sample[column].dropna())\n",
    "            ks_results[column] = {'KS-Statistik': statistic, 'p-Wert': p_value}\n",
    "    return ks_results\n",
    "\n",
    "# Funktion zur Überprüfung, ob die Stichprobe gut ist\n",
    "def is_sample_good(ks_results, p_value_threshold=0.9):  # Schwellenwert auf 0.9 erhöht\n",
    "    for result in ks_results.values():\n",
    "        if result['p-Wert'] < p_value_threshold:\n",
    "            return False\n",
    "    return True\n",
    "\n",
    "# Wiederholte Stichprobenziehung und Überprüfung\n",
    "def repeated_sampling(data, max_iterations=100, sample_size_per_day=10000, p_value_threshold=0.9):\n",
    "    for iteration in range(max_iterations):\n",
    "        sampled_data = sample_data_per_day(data, sample_size_per_day)\n",
    "        ks_results = ks_test(data, sampled_data)\n",
    "        if is_sample_good(ks_results, p_value_threshold):\n",
    "            print(f\"Gute Stichprobe nach {iteration + 1} Iterationen gefunden.\")\n",
    "            return sampled_data, ks_results\n",
    "        \n",
    "        progress = (iteration + 1) / max_iterations * 100\n",
    "        print(f\"\\rFortschritt: {progress:.2f}%\", end='')\n",
    "\n",
    "    print(\"\\nKeine gute Stichprobe gefunden.\")\n",
    "    return None, None\n",
    "\n",
    "# Visualisierung der Verteilung\n",
    "def plot_distributions(data, sample, columns):\n",
    "    for column in columns:\n",
    "        if data[column].dtype in [np.float64, np.int64]:\n",
    "            plt.figure(figsize=(12, 6))\n",
    "            plt.hist(data[column], bins=50, alpha=0.5, label='Population')\n",
    "            plt.hist(sample[column], bins=50, alpha=0.5, label='Sample')\n",
    "            plt.title(f'Distribution of {column}')\n",
    "            plt.legend(loc='upper right')\n",
    "            plt.show()\n",
    "\n",
    "# Ziehen der Stichprobe mit wiederholter Überprüfung\n",
    "start_time = time.time()\n",
    "sampled_data, ks_results = repeated_sampling(data)\n",
    "end_time = time.time()\n",
    "\n",
    "# Ausgabe der Zeit und Anzahl der Datensätze\n",
    "if sampled_data is not None:\n",
    "    print(f\"\\nData sampling complete! Total time taken: {end_time - start_time:.2f} seconds.\")\n",
    "    print(f\"Anzahl der Stichprobendatensätze: {len(sampled_data)}\")\n",
    "    print(\"\\nKolmogorov-Smirnov-Test Ergebnisse:\")\n",
    "    for column, result in ks_results.items():\n",
    "        print(f\"{column}: KS-Statistik = {result['KS-Statistik']:.3f}, p-Wert = {result['p-Wert']:.3f}\")\n",
    "\n",
    "    # Beispielverteilung für ausgewählte Merkmale plotten\n",
    "    plot_distributions(data, sampled_data, ['travel_time', 'passenger_count', 'trip_distance', 'tip_amount', 'total_amount_without_tip'])\n",
    "else:\n",
    "    print(\"Keine gute Stichprobe gefunden.\")\n"
   ]
  },
  {
   "cell_type": "code",
   "execution_count": 14,
   "id": "c643daa3-b9a9-43cc-a211-2f05e8416261",
   "metadata": {},
   "outputs": [
    {
     "name": "stderr",
     "output_type": "stream",
     "text": [
      "C:\\Users\\Marc Willberg\\AppData\\Local\\Temp\\ipykernel_26692\\332676640.py:12: DeprecationWarning: DataFrameGroupBy.apply operated on the grouping columns. This behavior is deprecated, and in a future version of pandas the grouping columns will be excluded from the operation. Either pass `include_groups=False` to exclude the groupings or explicitly select the grouping columns after groupby to silence this warning.\n",
      "  sampled_data = data.groupby('start_day', group_keys=False).apply(\n"
     ]
    },
    {
     "name": "stdout",
     "output_type": "stream",
     "text": [
      "Fortschritt: 1.00%"
     ]
    },
    {
     "name": "stderr",
     "output_type": "stream",
     "text": [
      "C:\\Users\\Marc Willberg\\AppData\\Local\\Temp\\ipykernel_26692\\332676640.py:12: DeprecationWarning: DataFrameGroupBy.apply operated on the grouping columns. This behavior is deprecated, and in a future version of pandas the grouping columns will be excluded from the operation. Either pass `include_groups=False` to exclude the groupings or explicitly select the grouping columns after groupby to silence this warning.\n",
      "  sampled_data = data.groupby('start_day', group_keys=False).apply(\n"
     ]
    },
    {
     "name": "stdout",
     "output_type": "stream",
     "text": [
      "Fortschritt: 2.00%"
     ]
    },
    {
     "name": "stderr",
     "output_type": "stream",
     "text": [
      "C:\\Users\\Marc Willberg\\AppData\\Local\\Temp\\ipykernel_26692\\332676640.py:12: DeprecationWarning: DataFrameGroupBy.apply operated on the grouping columns. This behavior is deprecated, and in a future version of pandas the grouping columns will be excluded from the operation. Either pass `include_groups=False` to exclude the groupings or explicitly select the grouping columns after groupby to silence this warning.\n",
      "  sampled_data = data.groupby('start_day', group_keys=False).apply(\n"
     ]
    },
    {
     "name": "stdout",
     "output_type": "stream",
     "text": [
      "Fortschritt: 3.00%"
     ]
    },
    {
     "name": "stderr",
     "output_type": "stream",
     "text": [
      "C:\\Users\\Marc Willberg\\AppData\\Local\\Temp\\ipykernel_26692\\332676640.py:12: DeprecationWarning: DataFrameGroupBy.apply operated on the grouping columns. This behavior is deprecated, and in a future version of pandas the grouping columns will be excluded from the operation. Either pass `include_groups=False` to exclude the groupings or explicitly select the grouping columns after groupby to silence this warning.\n",
      "  sampled_data = data.groupby('start_day', group_keys=False).apply(\n"
     ]
    },
    {
     "name": "stdout",
     "output_type": "stream",
     "text": [
      "Fortschritt: 4.00%"
     ]
    },
    {
     "name": "stderr",
     "output_type": "stream",
     "text": [
      "C:\\Users\\Marc Willberg\\AppData\\Local\\Temp\\ipykernel_26692\\332676640.py:12: DeprecationWarning: DataFrameGroupBy.apply operated on the grouping columns. This behavior is deprecated, and in a future version of pandas the grouping columns will be excluded from the operation. Either pass `include_groups=False` to exclude the groupings or explicitly select the grouping columns after groupby to silence this warning.\n",
      "  sampled_data = data.groupby('start_day', group_keys=False).apply(\n"
     ]
    },
    {
     "name": "stdout",
     "output_type": "stream",
     "text": [
      "Fortschritt: 5.00%"
     ]
    },
    {
     "name": "stderr",
     "output_type": "stream",
     "text": [
      "C:\\Users\\Marc Willberg\\AppData\\Local\\Temp\\ipykernel_26692\\332676640.py:12: DeprecationWarning: DataFrameGroupBy.apply operated on the grouping columns. This behavior is deprecated, and in a future version of pandas the grouping columns will be excluded from the operation. Either pass `include_groups=False` to exclude the groupings or explicitly select the grouping columns after groupby to silence this warning.\n",
      "  sampled_data = data.groupby('start_day', group_keys=False).apply(\n"
     ]
    },
    {
     "name": "stdout",
     "output_type": "stream",
     "text": [
      "Fortschritt: 6.00%"
     ]
    },
    {
     "name": "stderr",
     "output_type": "stream",
     "text": [
      "C:\\Users\\Marc Willberg\\AppData\\Local\\Temp\\ipykernel_26692\\332676640.py:12: DeprecationWarning: DataFrameGroupBy.apply operated on the grouping columns. This behavior is deprecated, and in a future version of pandas the grouping columns will be excluded from the operation. Either pass `include_groups=False` to exclude the groupings or explicitly select the grouping columns after groupby to silence this warning.\n",
      "  sampled_data = data.groupby('start_day', group_keys=False).apply(\n"
     ]
    },
    {
     "name": "stdout",
     "output_type": "stream",
     "text": [
      "Fortschritt: 7.00%"
     ]
    },
    {
     "name": "stderr",
     "output_type": "stream",
     "text": [
      "C:\\Users\\Marc Willberg\\AppData\\Local\\Temp\\ipykernel_26692\\332676640.py:12: DeprecationWarning: DataFrameGroupBy.apply operated on the grouping columns. This behavior is deprecated, and in a future version of pandas the grouping columns will be excluded from the operation. Either pass `include_groups=False` to exclude the groupings or explicitly select the grouping columns after groupby to silence this warning.\n",
      "  sampled_data = data.groupby('start_day', group_keys=False).apply(\n"
     ]
    },
    {
     "name": "stdout",
     "output_type": "stream",
     "text": [
      "Fortschritt: 8.00%"
     ]
    },
    {
     "name": "stderr",
     "output_type": "stream",
     "text": [
      "C:\\Users\\Marc Willberg\\AppData\\Local\\Temp\\ipykernel_26692\\332676640.py:12: DeprecationWarning: DataFrameGroupBy.apply operated on the grouping columns. This behavior is deprecated, and in a future version of pandas the grouping columns will be excluded from the operation. Either pass `include_groups=False` to exclude the groupings or explicitly select the grouping columns after groupby to silence this warning.\n",
      "  sampled_data = data.groupby('start_day', group_keys=False).apply(\n"
     ]
    },
    {
     "name": "stdout",
     "output_type": "stream",
     "text": [
      "Fortschritt: 9.00%"
     ]
    },
    {
     "name": "stderr",
     "output_type": "stream",
     "text": [
      "C:\\Users\\Marc Willberg\\AppData\\Local\\Temp\\ipykernel_26692\\332676640.py:12: DeprecationWarning: DataFrameGroupBy.apply operated on the grouping columns. This behavior is deprecated, and in a future version of pandas the grouping columns will be excluded from the operation. Either pass `include_groups=False` to exclude the groupings or explicitly select the grouping columns after groupby to silence this warning.\n",
      "  sampled_data = data.groupby('start_day', group_keys=False).apply(\n"
     ]
    },
    {
     "name": "stdout",
     "output_type": "stream",
     "text": [
      "Fortschritt: 10.00%"
     ]
    },
    {
     "name": "stderr",
     "output_type": "stream",
     "text": [
      "C:\\Users\\Marc Willberg\\AppData\\Local\\Temp\\ipykernel_26692\\332676640.py:12: DeprecationWarning: DataFrameGroupBy.apply operated on the grouping columns. This behavior is deprecated, and in a future version of pandas the grouping columns will be excluded from the operation. Either pass `include_groups=False` to exclude the groupings or explicitly select the grouping columns after groupby to silence this warning.\n",
      "  sampled_data = data.groupby('start_day', group_keys=False).apply(\n"
     ]
    },
    {
     "name": "stdout",
     "output_type": "stream",
     "text": [
      "Fortschritt: 11.00%"
     ]
    },
    {
     "name": "stderr",
     "output_type": "stream",
     "text": [
      "C:\\Users\\Marc Willberg\\AppData\\Local\\Temp\\ipykernel_26692\\332676640.py:12: DeprecationWarning: DataFrameGroupBy.apply operated on the grouping columns. This behavior is deprecated, and in a future version of pandas the grouping columns will be excluded from the operation. Either pass `include_groups=False` to exclude the groupings or explicitly select the grouping columns after groupby to silence this warning.\n",
      "  sampled_data = data.groupby('start_day', group_keys=False).apply(\n"
     ]
    },
    {
     "name": "stdout",
     "output_type": "stream",
     "text": [
      "Fortschritt: 12.00%"
     ]
    },
    {
     "name": "stderr",
     "output_type": "stream",
     "text": [
      "C:\\Users\\Marc Willberg\\AppData\\Local\\Temp\\ipykernel_26692\\332676640.py:12: DeprecationWarning: DataFrameGroupBy.apply operated on the grouping columns. This behavior is deprecated, and in a future version of pandas the grouping columns will be excluded from the operation. Either pass `include_groups=False` to exclude the groupings or explicitly select the grouping columns after groupby to silence this warning.\n",
      "  sampled_data = data.groupby('start_day', group_keys=False).apply(\n"
     ]
    },
    {
     "name": "stdout",
     "output_type": "stream",
     "text": [
      "Fortschritt: 13.00%"
     ]
    },
    {
     "name": "stderr",
     "output_type": "stream",
     "text": [
      "C:\\Users\\Marc Willberg\\AppData\\Local\\Temp\\ipykernel_26692\\332676640.py:12: DeprecationWarning: DataFrameGroupBy.apply operated on the grouping columns. This behavior is deprecated, and in a future version of pandas the grouping columns will be excluded from the operation. Either pass `include_groups=False` to exclude the groupings or explicitly select the grouping columns after groupby to silence this warning.\n",
      "  sampled_data = data.groupby('start_day', group_keys=False).apply(\n"
     ]
    },
    {
     "name": "stdout",
     "output_type": "stream",
     "text": [
      "Fortschritt: 14.00%"
     ]
    },
    {
     "name": "stderr",
     "output_type": "stream",
     "text": [
      "C:\\Users\\Marc Willberg\\AppData\\Local\\Temp\\ipykernel_26692\\332676640.py:12: DeprecationWarning: DataFrameGroupBy.apply operated on the grouping columns. This behavior is deprecated, and in a future version of pandas the grouping columns will be excluded from the operation. Either pass `include_groups=False` to exclude the groupings or explicitly select the grouping columns after groupby to silence this warning.\n",
      "  sampled_data = data.groupby('start_day', group_keys=False).apply(\n"
     ]
    },
    {
     "name": "stdout",
     "output_type": "stream",
     "text": [
      "Fortschritt: 15.00%"
     ]
    },
    {
     "name": "stderr",
     "output_type": "stream",
     "text": [
      "C:\\Users\\Marc Willberg\\AppData\\Local\\Temp\\ipykernel_26692\\332676640.py:12: DeprecationWarning: DataFrameGroupBy.apply operated on the grouping columns. This behavior is deprecated, and in a future version of pandas the grouping columns will be excluded from the operation. Either pass `include_groups=False` to exclude the groupings or explicitly select the grouping columns after groupby to silence this warning.\n",
      "  sampled_data = data.groupby('start_day', group_keys=False).apply(\n"
     ]
    },
    {
     "name": "stdout",
     "output_type": "stream",
     "text": [
      "Fortschritt: 16.00%"
     ]
    },
    {
     "name": "stderr",
     "output_type": "stream",
     "text": [
      "C:\\Users\\Marc Willberg\\AppData\\Local\\Temp\\ipykernel_26692\\332676640.py:12: DeprecationWarning: DataFrameGroupBy.apply operated on the grouping columns. This behavior is deprecated, and in a future version of pandas the grouping columns will be excluded from the operation. Either pass `include_groups=False` to exclude the groupings or explicitly select the grouping columns after groupby to silence this warning.\n",
      "  sampled_data = data.groupby('start_day', group_keys=False).apply(\n"
     ]
    },
    {
     "name": "stdout",
     "output_type": "stream",
     "text": [
      "Fortschritt: 17.00%"
     ]
    },
    {
     "name": "stderr",
     "output_type": "stream",
     "text": [
      "C:\\Users\\Marc Willberg\\AppData\\Local\\Temp\\ipykernel_26692\\332676640.py:12: DeprecationWarning: DataFrameGroupBy.apply operated on the grouping columns. This behavior is deprecated, and in a future version of pandas the grouping columns will be excluded from the operation. Either pass `include_groups=False` to exclude the groupings or explicitly select the grouping columns after groupby to silence this warning.\n",
      "  sampled_data = data.groupby('start_day', group_keys=False).apply(\n"
     ]
    },
    {
     "name": "stdout",
     "output_type": "stream",
     "text": [
      "Fortschritt: 18.00%"
     ]
    },
    {
     "name": "stderr",
     "output_type": "stream",
     "text": [
      "C:\\Users\\Marc Willberg\\AppData\\Local\\Temp\\ipykernel_26692\\332676640.py:12: DeprecationWarning: DataFrameGroupBy.apply operated on the grouping columns. This behavior is deprecated, and in a future version of pandas the grouping columns will be excluded from the operation. Either pass `include_groups=False` to exclude the groupings or explicitly select the grouping columns after groupby to silence this warning.\n",
      "  sampled_data = data.groupby('start_day', group_keys=False).apply(\n"
     ]
    },
    {
     "name": "stdout",
     "output_type": "stream",
     "text": [
      "Fortschritt: 19.00%"
     ]
    },
    {
     "name": "stderr",
     "output_type": "stream",
     "text": [
      "C:\\Users\\Marc Willberg\\AppData\\Local\\Temp\\ipykernel_26692\\332676640.py:12: DeprecationWarning: DataFrameGroupBy.apply operated on the grouping columns. This behavior is deprecated, and in a future version of pandas the grouping columns will be excluded from the operation. Either pass `include_groups=False` to exclude the groupings or explicitly select the grouping columns after groupby to silence this warning.\n",
      "  sampled_data = data.groupby('start_day', group_keys=False).apply(\n"
     ]
    },
    {
     "name": "stdout",
     "output_type": "stream",
     "text": [
      "Fortschritt: 20.00%"
     ]
    },
    {
     "name": "stderr",
     "output_type": "stream",
     "text": [
      "C:\\Users\\Marc Willberg\\AppData\\Local\\Temp\\ipykernel_26692\\332676640.py:12: DeprecationWarning: DataFrameGroupBy.apply operated on the grouping columns. This behavior is deprecated, and in a future version of pandas the grouping columns will be excluded from the operation. Either pass `include_groups=False` to exclude the groupings or explicitly select the grouping columns after groupby to silence this warning.\n",
      "  sampled_data = data.groupby('start_day', group_keys=False).apply(\n"
     ]
    },
    {
     "name": "stdout",
     "output_type": "stream",
     "text": [
      "Fortschritt: 21.00%"
     ]
    },
    {
     "name": "stderr",
     "output_type": "stream",
     "text": [
      "C:\\Users\\Marc Willberg\\AppData\\Local\\Temp\\ipykernel_26692\\332676640.py:12: DeprecationWarning: DataFrameGroupBy.apply operated on the grouping columns. This behavior is deprecated, and in a future version of pandas the grouping columns will be excluded from the operation. Either pass `include_groups=False` to exclude the groupings or explicitly select the grouping columns after groupby to silence this warning.\n",
      "  sampled_data = data.groupby('start_day', group_keys=False).apply(\n"
     ]
    },
    {
     "name": "stdout",
     "output_type": "stream",
     "text": [
      "Fortschritt: 22.00%"
     ]
    },
    {
     "name": "stderr",
     "output_type": "stream",
     "text": [
      "C:\\Users\\Marc Willberg\\AppData\\Local\\Temp\\ipykernel_26692\\332676640.py:12: DeprecationWarning: DataFrameGroupBy.apply operated on the grouping columns. This behavior is deprecated, and in a future version of pandas the grouping columns will be excluded from the operation. Either pass `include_groups=False` to exclude the groupings or explicitly select the grouping columns after groupby to silence this warning.\n",
      "  sampled_data = data.groupby('start_day', group_keys=False).apply(\n"
     ]
    },
    {
     "name": "stdout",
     "output_type": "stream",
     "text": [
      "Fortschritt: 23.00%"
     ]
    },
    {
     "name": "stderr",
     "output_type": "stream",
     "text": [
      "C:\\Users\\Marc Willberg\\AppData\\Local\\Temp\\ipykernel_26692\\332676640.py:12: DeprecationWarning: DataFrameGroupBy.apply operated on the grouping columns. This behavior is deprecated, and in a future version of pandas the grouping columns will be excluded from the operation. Either pass `include_groups=False` to exclude the groupings or explicitly select the grouping columns after groupby to silence this warning.\n",
      "  sampled_data = data.groupby('start_day', group_keys=False).apply(\n"
     ]
    },
    {
     "name": "stdout",
     "output_type": "stream",
     "text": [
      "Fortschritt: 24.00%"
     ]
    },
    {
     "name": "stderr",
     "output_type": "stream",
     "text": [
      "C:\\Users\\Marc Willberg\\AppData\\Local\\Temp\\ipykernel_26692\\332676640.py:12: DeprecationWarning: DataFrameGroupBy.apply operated on the grouping columns. This behavior is deprecated, and in a future version of pandas the grouping columns will be excluded from the operation. Either pass `include_groups=False` to exclude the groupings or explicitly select the grouping columns after groupby to silence this warning.\n",
      "  sampled_data = data.groupby('start_day', group_keys=False).apply(\n"
     ]
    },
    {
     "name": "stdout",
     "output_type": "stream",
     "text": [
      "Fortschritt: 25.00%"
     ]
    },
    {
     "name": "stderr",
     "output_type": "stream",
     "text": [
      "C:\\Users\\Marc Willberg\\AppData\\Local\\Temp\\ipykernel_26692\\332676640.py:12: DeprecationWarning: DataFrameGroupBy.apply operated on the grouping columns. This behavior is deprecated, and in a future version of pandas the grouping columns will be excluded from the operation. Either pass `include_groups=False` to exclude the groupings or explicitly select the grouping columns after groupby to silence this warning.\n",
      "  sampled_data = data.groupby('start_day', group_keys=False).apply(\n"
     ]
    },
    {
     "name": "stdout",
     "output_type": "stream",
     "text": [
      "Fortschritt: 26.00%"
     ]
    },
    {
     "name": "stderr",
     "output_type": "stream",
     "text": [
      "C:\\Users\\Marc Willberg\\AppData\\Local\\Temp\\ipykernel_26692\\332676640.py:12: DeprecationWarning: DataFrameGroupBy.apply operated on the grouping columns. This behavior is deprecated, and in a future version of pandas the grouping columns will be excluded from the operation. Either pass `include_groups=False` to exclude the groupings or explicitly select the grouping columns after groupby to silence this warning.\n",
      "  sampled_data = data.groupby('start_day', group_keys=False).apply(\n"
     ]
    },
    {
     "name": "stdout",
     "output_type": "stream",
     "text": [
      "Fortschritt: 27.00%"
     ]
    },
    {
     "name": "stderr",
     "output_type": "stream",
     "text": [
      "C:\\Users\\Marc Willberg\\AppData\\Local\\Temp\\ipykernel_26692\\332676640.py:12: DeprecationWarning: DataFrameGroupBy.apply operated on the grouping columns. This behavior is deprecated, and in a future version of pandas the grouping columns will be excluded from the operation. Either pass `include_groups=False` to exclude the groupings or explicitly select the grouping columns after groupby to silence this warning.\n",
      "  sampled_data = data.groupby('start_day', group_keys=False).apply(\n"
     ]
    },
    {
     "name": "stdout",
     "output_type": "stream",
     "text": [
      "Fortschritt: 28.00%"
     ]
    },
    {
     "name": "stderr",
     "output_type": "stream",
     "text": [
      "C:\\Users\\Marc Willberg\\AppData\\Local\\Temp\\ipykernel_26692\\332676640.py:12: DeprecationWarning: DataFrameGroupBy.apply operated on the grouping columns. This behavior is deprecated, and in a future version of pandas the grouping columns will be excluded from the operation. Either pass `include_groups=False` to exclude the groupings or explicitly select the grouping columns after groupby to silence this warning.\n",
      "  sampled_data = data.groupby('start_day', group_keys=False).apply(\n"
     ]
    },
    {
     "name": "stdout",
     "output_type": "stream",
     "text": [
      "Fortschritt: 29.00%"
     ]
    },
    {
     "name": "stderr",
     "output_type": "stream",
     "text": [
      "C:\\Users\\Marc Willberg\\AppData\\Local\\Temp\\ipykernel_26692\\332676640.py:12: DeprecationWarning: DataFrameGroupBy.apply operated on the grouping columns. This behavior is deprecated, and in a future version of pandas the grouping columns will be excluded from the operation. Either pass `include_groups=False` to exclude the groupings or explicitly select the grouping columns after groupby to silence this warning.\n",
      "  sampled_data = data.groupby('start_day', group_keys=False).apply(\n"
     ]
    },
    {
     "name": "stdout",
     "output_type": "stream",
     "text": [
      "Fortschritt: 30.00%"
     ]
    },
    {
     "name": "stderr",
     "output_type": "stream",
     "text": [
      "C:\\Users\\Marc Willberg\\AppData\\Local\\Temp\\ipykernel_26692\\332676640.py:12: DeprecationWarning: DataFrameGroupBy.apply operated on the grouping columns. This behavior is deprecated, and in a future version of pandas the grouping columns will be excluded from the operation. Either pass `include_groups=False` to exclude the groupings or explicitly select the grouping columns after groupby to silence this warning.\n",
      "  sampled_data = data.groupby('start_day', group_keys=False).apply(\n"
     ]
    },
    {
     "name": "stdout",
     "output_type": "stream",
     "text": [
      "Fortschritt: 31.00%"
     ]
    },
    {
     "name": "stderr",
     "output_type": "stream",
     "text": [
      "C:\\Users\\Marc Willberg\\AppData\\Local\\Temp\\ipykernel_26692\\332676640.py:12: DeprecationWarning: DataFrameGroupBy.apply operated on the grouping columns. This behavior is deprecated, and in a future version of pandas the grouping columns will be excluded from the operation. Either pass `include_groups=False` to exclude the groupings or explicitly select the grouping columns after groupby to silence this warning.\n",
      "  sampled_data = data.groupby('start_day', group_keys=False).apply(\n"
     ]
    },
    {
     "name": "stdout",
     "output_type": "stream",
     "text": [
      "Fortschritt: 32.00%"
     ]
    },
    {
     "name": "stderr",
     "output_type": "stream",
     "text": [
      "C:\\Users\\Marc Willberg\\AppData\\Local\\Temp\\ipykernel_26692\\332676640.py:12: DeprecationWarning: DataFrameGroupBy.apply operated on the grouping columns. This behavior is deprecated, and in a future version of pandas the grouping columns will be excluded from the operation. Either pass `include_groups=False` to exclude the groupings or explicitly select the grouping columns after groupby to silence this warning.\n",
      "  sampled_data = data.groupby('start_day', group_keys=False).apply(\n"
     ]
    },
    {
     "name": "stdout",
     "output_type": "stream",
     "text": [
      "Fortschritt: 33.00%"
     ]
    },
    {
     "name": "stderr",
     "output_type": "stream",
     "text": [
      "C:\\Users\\Marc Willberg\\AppData\\Local\\Temp\\ipykernel_26692\\332676640.py:12: DeprecationWarning: DataFrameGroupBy.apply operated on the grouping columns. This behavior is deprecated, and in a future version of pandas the grouping columns will be excluded from the operation. Either pass `include_groups=False` to exclude the groupings or explicitly select the grouping columns after groupby to silence this warning.\n",
      "  sampled_data = data.groupby('start_day', group_keys=False).apply(\n"
     ]
    },
    {
     "name": "stdout",
     "output_type": "stream",
     "text": [
      "Fortschritt: 34.00%"
     ]
    },
    {
     "name": "stderr",
     "output_type": "stream",
     "text": [
      "C:\\Users\\Marc Willberg\\AppData\\Local\\Temp\\ipykernel_26692\\332676640.py:12: DeprecationWarning: DataFrameGroupBy.apply operated on the grouping columns. This behavior is deprecated, and in a future version of pandas the grouping columns will be excluded from the operation. Either pass `include_groups=False` to exclude the groupings or explicitly select the grouping columns after groupby to silence this warning.\n",
      "  sampled_data = data.groupby('start_day', group_keys=False).apply(\n"
     ]
    },
    {
     "name": "stdout",
     "output_type": "stream",
     "text": [
      "Fortschritt: 35.00%"
     ]
    },
    {
     "name": "stderr",
     "output_type": "stream",
     "text": [
      "C:\\Users\\Marc Willberg\\AppData\\Local\\Temp\\ipykernel_26692\\332676640.py:12: DeprecationWarning: DataFrameGroupBy.apply operated on the grouping columns. This behavior is deprecated, and in a future version of pandas the grouping columns will be excluded from the operation. Either pass `include_groups=False` to exclude the groupings or explicitly select the grouping columns after groupby to silence this warning.\n",
      "  sampled_data = data.groupby('start_day', group_keys=False).apply(\n"
     ]
    },
    {
     "name": "stdout",
     "output_type": "stream",
     "text": [
      "Fortschritt: 36.00%"
     ]
    },
    {
     "name": "stderr",
     "output_type": "stream",
     "text": [
      "C:\\Users\\Marc Willberg\\AppData\\Local\\Temp\\ipykernel_26692\\332676640.py:12: DeprecationWarning: DataFrameGroupBy.apply operated on the grouping columns. This behavior is deprecated, and in a future version of pandas the grouping columns will be excluded from the operation. Either pass `include_groups=False` to exclude the groupings or explicitly select the grouping columns after groupby to silence this warning.\n",
      "  sampled_data = data.groupby('start_day', group_keys=False).apply(\n"
     ]
    },
    {
     "name": "stdout",
     "output_type": "stream",
     "text": [
      "Fortschritt: 37.00%"
     ]
    },
    {
     "name": "stderr",
     "output_type": "stream",
     "text": [
      "C:\\Users\\Marc Willberg\\AppData\\Local\\Temp\\ipykernel_26692\\332676640.py:12: DeprecationWarning: DataFrameGroupBy.apply operated on the grouping columns. This behavior is deprecated, and in a future version of pandas the grouping columns will be excluded from the operation. Either pass `include_groups=False` to exclude the groupings or explicitly select the grouping columns after groupby to silence this warning.\n",
      "  sampled_data = data.groupby('start_day', group_keys=False).apply(\n"
     ]
    },
    {
     "name": "stdout",
     "output_type": "stream",
     "text": [
      "Fortschritt: 38.00%"
     ]
    },
    {
     "name": "stderr",
     "output_type": "stream",
     "text": [
      "C:\\Users\\Marc Willberg\\AppData\\Local\\Temp\\ipykernel_26692\\332676640.py:12: DeprecationWarning: DataFrameGroupBy.apply operated on the grouping columns. This behavior is deprecated, and in a future version of pandas the grouping columns will be excluded from the operation. Either pass `include_groups=False` to exclude the groupings or explicitly select the grouping columns after groupby to silence this warning.\n",
      "  sampled_data = data.groupby('start_day', group_keys=False).apply(\n"
     ]
    },
    {
     "name": "stdout",
     "output_type": "stream",
     "text": [
      "Fortschritt: 39.00%"
     ]
    },
    {
     "name": "stderr",
     "output_type": "stream",
     "text": [
      "C:\\Users\\Marc Willberg\\AppData\\Local\\Temp\\ipykernel_26692\\332676640.py:12: DeprecationWarning: DataFrameGroupBy.apply operated on the grouping columns. This behavior is deprecated, and in a future version of pandas the grouping columns will be excluded from the operation. Either pass `include_groups=False` to exclude the groupings or explicitly select the grouping columns after groupby to silence this warning.\n",
      "  sampled_data = data.groupby('start_day', group_keys=False).apply(\n"
     ]
    },
    {
     "name": "stdout",
     "output_type": "stream",
     "text": [
      "Fortschritt: 40.00%"
     ]
    },
    {
     "name": "stderr",
     "output_type": "stream",
     "text": [
      "C:\\Users\\Marc Willberg\\AppData\\Local\\Temp\\ipykernel_26692\\332676640.py:12: DeprecationWarning: DataFrameGroupBy.apply operated on the grouping columns. This behavior is deprecated, and in a future version of pandas the grouping columns will be excluded from the operation. Either pass `include_groups=False` to exclude the groupings or explicitly select the grouping columns after groupby to silence this warning.\n",
      "  sampled_data = data.groupby('start_day', group_keys=False).apply(\n"
     ]
    },
    {
     "name": "stdout",
     "output_type": "stream",
     "text": [
      "Fortschritt: 41.00%"
     ]
    },
    {
     "name": "stderr",
     "output_type": "stream",
     "text": [
      "C:\\Users\\Marc Willberg\\AppData\\Local\\Temp\\ipykernel_26692\\332676640.py:12: DeprecationWarning: DataFrameGroupBy.apply operated on the grouping columns. This behavior is deprecated, and in a future version of pandas the grouping columns will be excluded from the operation. Either pass `include_groups=False` to exclude the groupings or explicitly select the grouping columns after groupby to silence this warning.\n",
      "  sampled_data = data.groupby('start_day', group_keys=False).apply(\n"
     ]
    },
    {
     "name": "stdout",
     "output_type": "stream",
     "text": [
      "Fortschritt: 42.00%"
     ]
    },
    {
     "name": "stderr",
     "output_type": "stream",
     "text": [
      "C:\\Users\\Marc Willberg\\AppData\\Local\\Temp\\ipykernel_26692\\332676640.py:12: DeprecationWarning: DataFrameGroupBy.apply operated on the grouping columns. This behavior is deprecated, and in a future version of pandas the grouping columns will be excluded from the operation. Either pass `include_groups=False` to exclude the groupings or explicitly select the grouping columns after groupby to silence this warning.\n",
      "  sampled_data = data.groupby('start_day', group_keys=False).apply(\n"
     ]
    },
    {
     "name": "stdout",
     "output_type": "stream",
     "text": [
      "Fortschritt: 43.00%"
     ]
    },
    {
     "name": "stderr",
     "output_type": "stream",
     "text": [
      "C:\\Users\\Marc Willberg\\AppData\\Local\\Temp\\ipykernel_26692\\332676640.py:12: DeprecationWarning: DataFrameGroupBy.apply operated on the grouping columns. This behavior is deprecated, and in a future version of pandas the grouping columns will be excluded from the operation. Either pass `include_groups=False` to exclude the groupings or explicitly select the grouping columns after groupby to silence this warning.\n",
      "  sampled_data = data.groupby('start_day', group_keys=False).apply(\n"
     ]
    },
    {
     "name": "stdout",
     "output_type": "stream",
     "text": [
      "Fortschritt: 44.00%"
     ]
    },
    {
     "name": "stderr",
     "output_type": "stream",
     "text": [
      "C:\\Users\\Marc Willberg\\AppData\\Local\\Temp\\ipykernel_26692\\332676640.py:12: DeprecationWarning: DataFrameGroupBy.apply operated on the grouping columns. This behavior is deprecated, and in a future version of pandas the grouping columns will be excluded from the operation. Either pass `include_groups=False` to exclude the groupings or explicitly select the grouping columns after groupby to silence this warning.\n",
      "  sampled_data = data.groupby('start_day', group_keys=False).apply(\n"
     ]
    },
    {
     "name": "stdout",
     "output_type": "stream",
     "text": [
      "Fortschritt: 45.00%"
     ]
    },
    {
     "name": "stderr",
     "output_type": "stream",
     "text": [
      "C:\\Users\\Marc Willberg\\AppData\\Local\\Temp\\ipykernel_26692\\332676640.py:12: DeprecationWarning: DataFrameGroupBy.apply operated on the grouping columns. This behavior is deprecated, and in a future version of pandas the grouping columns will be excluded from the operation. Either pass `include_groups=False` to exclude the groupings or explicitly select the grouping columns after groupby to silence this warning.\n",
      "  sampled_data = data.groupby('start_day', group_keys=False).apply(\n"
     ]
    },
    {
     "name": "stdout",
     "output_type": "stream",
     "text": [
      "Fortschritt: 46.00%"
     ]
    },
    {
     "name": "stderr",
     "output_type": "stream",
     "text": [
      "C:\\Users\\Marc Willberg\\AppData\\Local\\Temp\\ipykernel_26692\\332676640.py:12: DeprecationWarning: DataFrameGroupBy.apply operated on the grouping columns. This behavior is deprecated, and in a future version of pandas the grouping columns will be excluded from the operation. Either pass `include_groups=False` to exclude the groupings or explicitly select the grouping columns after groupby to silence this warning.\n",
      "  sampled_data = data.groupby('start_day', group_keys=False).apply(\n"
     ]
    },
    {
     "name": "stdout",
     "output_type": "stream",
     "text": [
      "Fortschritt: 47.00%"
     ]
    },
    {
     "name": "stderr",
     "output_type": "stream",
     "text": [
      "C:\\Users\\Marc Willberg\\AppData\\Local\\Temp\\ipykernel_26692\\332676640.py:12: DeprecationWarning: DataFrameGroupBy.apply operated on the grouping columns. This behavior is deprecated, and in a future version of pandas the grouping columns will be excluded from the operation. Either pass `include_groups=False` to exclude the groupings or explicitly select the grouping columns after groupby to silence this warning.\n",
      "  sampled_data = data.groupby('start_day', group_keys=False).apply(\n"
     ]
    },
    {
     "name": "stdout",
     "output_type": "stream",
     "text": [
      "Fortschritt: 48.00%"
     ]
    },
    {
     "name": "stderr",
     "output_type": "stream",
     "text": [
      "C:\\Users\\Marc Willberg\\AppData\\Local\\Temp\\ipykernel_26692\\332676640.py:12: DeprecationWarning: DataFrameGroupBy.apply operated on the grouping columns. This behavior is deprecated, and in a future version of pandas the grouping columns will be excluded from the operation. Either pass `include_groups=False` to exclude the groupings or explicitly select the grouping columns after groupby to silence this warning.\n",
      "  sampled_data = data.groupby('start_day', group_keys=False).apply(\n"
     ]
    },
    {
     "name": "stdout",
     "output_type": "stream",
     "text": [
      "Fortschritt: 49.00%"
     ]
    },
    {
     "name": "stderr",
     "output_type": "stream",
     "text": [
      "C:\\Users\\Marc Willberg\\AppData\\Local\\Temp\\ipykernel_26692\\332676640.py:12: DeprecationWarning: DataFrameGroupBy.apply operated on the grouping columns. This behavior is deprecated, and in a future version of pandas the grouping columns will be excluded from the operation. Either pass `include_groups=False` to exclude the groupings or explicitly select the grouping columns after groupby to silence this warning.\n",
      "  sampled_data = data.groupby('start_day', group_keys=False).apply(\n"
     ]
    },
    {
     "name": "stdout",
     "output_type": "stream",
     "text": [
      "Fortschritt: 50.00%"
     ]
    },
    {
     "name": "stderr",
     "output_type": "stream",
     "text": [
      "C:\\Users\\Marc Willberg\\AppData\\Local\\Temp\\ipykernel_26692\\332676640.py:12: DeprecationWarning: DataFrameGroupBy.apply operated on the grouping columns. This behavior is deprecated, and in a future version of pandas the grouping columns will be excluded from the operation. Either pass `include_groups=False` to exclude the groupings or explicitly select the grouping columns after groupby to silence this warning.\n",
      "  sampled_data = data.groupby('start_day', group_keys=False).apply(\n"
     ]
    },
    {
     "name": "stdout",
     "output_type": "stream",
     "text": [
      "Fortschritt: 51.00%"
     ]
    },
    {
     "name": "stderr",
     "output_type": "stream",
     "text": [
      "C:\\Users\\Marc Willberg\\AppData\\Local\\Temp\\ipykernel_26692\\332676640.py:12: DeprecationWarning: DataFrameGroupBy.apply operated on the grouping columns. This behavior is deprecated, and in a future version of pandas the grouping columns will be excluded from the operation. Either pass `include_groups=False` to exclude the groupings or explicitly select the grouping columns after groupby to silence this warning.\n",
      "  sampled_data = data.groupby('start_day', group_keys=False).apply(\n"
     ]
    },
    {
     "name": "stdout",
     "output_type": "stream",
     "text": [
      "Fortschritt: 52.00%"
     ]
    },
    {
     "name": "stderr",
     "output_type": "stream",
     "text": [
      "C:\\Users\\Marc Willberg\\AppData\\Local\\Temp\\ipykernel_26692\\332676640.py:12: DeprecationWarning: DataFrameGroupBy.apply operated on the grouping columns. This behavior is deprecated, and in a future version of pandas the grouping columns will be excluded from the operation. Either pass `include_groups=False` to exclude the groupings or explicitly select the grouping columns after groupby to silence this warning.\n",
      "  sampled_data = data.groupby('start_day', group_keys=False).apply(\n"
     ]
    },
    {
     "name": "stdout",
     "output_type": "stream",
     "text": [
      "Fortschritt: 53.00%"
     ]
    },
    {
     "name": "stderr",
     "output_type": "stream",
     "text": [
      "C:\\Users\\Marc Willberg\\AppData\\Local\\Temp\\ipykernel_26692\\332676640.py:12: DeprecationWarning: DataFrameGroupBy.apply operated on the grouping columns. This behavior is deprecated, and in a future version of pandas the grouping columns will be excluded from the operation. Either pass `include_groups=False` to exclude the groupings or explicitly select the grouping columns after groupby to silence this warning.\n",
      "  sampled_data = data.groupby('start_day', group_keys=False).apply(\n"
     ]
    },
    {
     "name": "stdout",
     "output_type": "stream",
     "text": [
      "Fortschritt: 54.00%"
     ]
    },
    {
     "name": "stderr",
     "output_type": "stream",
     "text": [
      "C:\\Users\\Marc Willberg\\AppData\\Local\\Temp\\ipykernel_26692\\332676640.py:12: DeprecationWarning: DataFrameGroupBy.apply operated on the grouping columns. This behavior is deprecated, and in a future version of pandas the grouping columns will be excluded from the operation. Either pass `include_groups=False` to exclude the groupings or explicitly select the grouping columns after groupby to silence this warning.\n",
      "  sampled_data = data.groupby('start_day', group_keys=False).apply(\n"
     ]
    },
    {
     "name": "stdout",
     "output_type": "stream",
     "text": [
      "Fortschritt: 55.00%"
     ]
    },
    {
     "name": "stderr",
     "output_type": "stream",
     "text": [
      "C:\\Users\\Marc Willberg\\AppData\\Local\\Temp\\ipykernel_26692\\332676640.py:12: DeprecationWarning: DataFrameGroupBy.apply operated on the grouping columns. This behavior is deprecated, and in a future version of pandas the grouping columns will be excluded from the operation. Either pass `include_groups=False` to exclude the groupings or explicitly select the grouping columns after groupby to silence this warning.\n",
      "  sampled_data = data.groupby('start_day', group_keys=False).apply(\n"
     ]
    },
    {
     "name": "stdout",
     "output_type": "stream",
     "text": [
      "Fortschritt: 56.00%"
     ]
    },
    {
     "name": "stderr",
     "output_type": "stream",
     "text": [
      "C:\\Users\\Marc Willberg\\AppData\\Local\\Temp\\ipykernel_26692\\332676640.py:12: DeprecationWarning: DataFrameGroupBy.apply operated on the grouping columns. This behavior is deprecated, and in a future version of pandas the grouping columns will be excluded from the operation. Either pass `include_groups=False` to exclude the groupings or explicitly select the grouping columns after groupby to silence this warning.\n",
      "  sampled_data = data.groupby('start_day', group_keys=False).apply(\n"
     ]
    },
    {
     "name": "stdout",
     "output_type": "stream",
     "text": [
      "Fortschritt: 57.00%"
     ]
    },
    {
     "name": "stderr",
     "output_type": "stream",
     "text": [
      "C:\\Users\\Marc Willberg\\AppData\\Local\\Temp\\ipykernel_26692\\332676640.py:12: DeprecationWarning: DataFrameGroupBy.apply operated on the grouping columns. This behavior is deprecated, and in a future version of pandas the grouping columns will be excluded from the operation. Either pass `include_groups=False` to exclude the groupings or explicitly select the grouping columns after groupby to silence this warning.\n",
      "  sampled_data = data.groupby('start_day', group_keys=False).apply(\n"
     ]
    },
    {
     "name": "stdout",
     "output_type": "stream",
     "text": [
      "Fortschritt: 58.00%"
     ]
    },
    {
     "name": "stderr",
     "output_type": "stream",
     "text": [
      "C:\\Users\\Marc Willberg\\AppData\\Local\\Temp\\ipykernel_26692\\332676640.py:12: DeprecationWarning: DataFrameGroupBy.apply operated on the grouping columns. This behavior is deprecated, and in a future version of pandas the grouping columns will be excluded from the operation. Either pass `include_groups=False` to exclude the groupings or explicitly select the grouping columns after groupby to silence this warning.\n",
      "  sampled_data = data.groupby('start_day', group_keys=False).apply(\n"
     ]
    },
    {
     "name": "stdout",
     "output_type": "stream",
     "text": [
      "Fortschritt: 59.00%"
     ]
    },
    {
     "name": "stderr",
     "output_type": "stream",
     "text": [
      "C:\\Users\\Marc Willberg\\AppData\\Local\\Temp\\ipykernel_26692\\332676640.py:12: DeprecationWarning: DataFrameGroupBy.apply operated on the grouping columns. This behavior is deprecated, and in a future version of pandas the grouping columns will be excluded from the operation. Either pass `include_groups=False` to exclude the groupings or explicitly select the grouping columns after groupby to silence this warning.\n",
      "  sampled_data = data.groupby('start_day', group_keys=False).apply(\n"
     ]
    },
    {
     "name": "stdout",
     "output_type": "stream",
     "text": [
      "Fortschritt: 60.00%"
     ]
    },
    {
     "name": "stderr",
     "output_type": "stream",
     "text": [
      "C:\\Users\\Marc Willberg\\AppData\\Local\\Temp\\ipykernel_26692\\332676640.py:12: DeprecationWarning: DataFrameGroupBy.apply operated on the grouping columns. This behavior is deprecated, and in a future version of pandas the grouping columns will be excluded from the operation. Either pass `include_groups=False` to exclude the groupings or explicitly select the grouping columns after groupby to silence this warning.\n",
      "  sampled_data = data.groupby('start_day', group_keys=False).apply(\n"
     ]
    },
    {
     "name": "stdout",
     "output_type": "stream",
     "text": [
      "Fortschritt: 61.00%"
     ]
    },
    {
     "name": "stderr",
     "output_type": "stream",
     "text": [
      "C:\\Users\\Marc Willberg\\AppData\\Local\\Temp\\ipykernel_26692\\332676640.py:12: DeprecationWarning: DataFrameGroupBy.apply operated on the grouping columns. This behavior is deprecated, and in a future version of pandas the grouping columns will be excluded from the operation. Either pass `include_groups=False` to exclude the groupings or explicitly select the grouping columns after groupby to silence this warning.\n",
      "  sampled_data = data.groupby('start_day', group_keys=False).apply(\n"
     ]
    },
    {
     "name": "stdout",
     "output_type": "stream",
     "text": [
      "Fortschritt: 62.00%"
     ]
    },
    {
     "name": "stderr",
     "output_type": "stream",
     "text": [
      "C:\\Users\\Marc Willberg\\AppData\\Local\\Temp\\ipykernel_26692\\332676640.py:12: DeprecationWarning: DataFrameGroupBy.apply operated on the grouping columns. This behavior is deprecated, and in a future version of pandas the grouping columns will be excluded from the operation. Either pass `include_groups=False` to exclude the groupings or explicitly select the grouping columns after groupby to silence this warning.\n",
      "  sampled_data = data.groupby('start_day', group_keys=False).apply(\n"
     ]
    },
    {
     "name": "stdout",
     "output_type": "stream",
     "text": [
      "Fortschritt: 63.00%"
     ]
    },
    {
     "name": "stderr",
     "output_type": "stream",
     "text": [
      "C:\\Users\\Marc Willberg\\AppData\\Local\\Temp\\ipykernel_26692\\332676640.py:12: DeprecationWarning: DataFrameGroupBy.apply operated on the grouping columns. This behavior is deprecated, and in a future version of pandas the grouping columns will be excluded from the operation. Either pass `include_groups=False` to exclude the groupings or explicitly select the grouping columns after groupby to silence this warning.\n",
      "  sampled_data = data.groupby('start_day', group_keys=False).apply(\n"
     ]
    },
    {
     "name": "stdout",
     "output_type": "stream",
     "text": [
      "Fortschritt: 64.00%"
     ]
    },
    {
     "name": "stderr",
     "output_type": "stream",
     "text": [
      "C:\\Users\\Marc Willberg\\AppData\\Local\\Temp\\ipykernel_26692\\332676640.py:12: DeprecationWarning: DataFrameGroupBy.apply operated on the grouping columns. This behavior is deprecated, and in a future version of pandas the grouping columns will be excluded from the operation. Either pass `include_groups=False` to exclude the groupings or explicitly select the grouping columns after groupby to silence this warning.\n",
      "  sampled_data = data.groupby('start_day', group_keys=False).apply(\n"
     ]
    },
    {
     "name": "stdout",
     "output_type": "stream",
     "text": [
      "Fortschritt: 65.00%"
     ]
    },
    {
     "name": "stderr",
     "output_type": "stream",
     "text": [
      "C:\\Users\\Marc Willberg\\AppData\\Local\\Temp\\ipykernel_26692\\332676640.py:12: DeprecationWarning: DataFrameGroupBy.apply operated on the grouping columns. This behavior is deprecated, and in a future version of pandas the grouping columns will be excluded from the operation. Either pass `include_groups=False` to exclude the groupings or explicitly select the grouping columns after groupby to silence this warning.\n",
      "  sampled_data = data.groupby('start_day', group_keys=False).apply(\n"
     ]
    },
    {
     "name": "stdout",
     "output_type": "stream",
     "text": [
      "Fortschritt: 66.00%"
     ]
    },
    {
     "name": "stderr",
     "output_type": "stream",
     "text": [
      "C:\\Users\\Marc Willberg\\AppData\\Local\\Temp\\ipykernel_26692\\332676640.py:12: DeprecationWarning: DataFrameGroupBy.apply operated on the grouping columns. This behavior is deprecated, and in a future version of pandas the grouping columns will be excluded from the operation. Either pass `include_groups=False` to exclude the groupings or explicitly select the grouping columns after groupby to silence this warning.\n",
      "  sampled_data = data.groupby('start_day', group_keys=False).apply(\n"
     ]
    },
    {
     "name": "stdout",
     "output_type": "stream",
     "text": [
      "Fortschritt: 67.00%"
     ]
    },
    {
     "name": "stderr",
     "output_type": "stream",
     "text": [
      "C:\\Users\\Marc Willberg\\AppData\\Local\\Temp\\ipykernel_26692\\332676640.py:12: DeprecationWarning: DataFrameGroupBy.apply operated on the grouping columns. This behavior is deprecated, and in a future version of pandas the grouping columns will be excluded from the operation. Either pass `include_groups=False` to exclude the groupings or explicitly select the grouping columns after groupby to silence this warning.\n",
      "  sampled_data = data.groupby('start_day', group_keys=False).apply(\n"
     ]
    },
    {
     "name": "stdout",
     "output_type": "stream",
     "text": [
      "Fortschritt: 68.00%"
     ]
    },
    {
     "name": "stderr",
     "output_type": "stream",
     "text": [
      "C:\\Users\\Marc Willberg\\AppData\\Local\\Temp\\ipykernel_26692\\332676640.py:12: DeprecationWarning: DataFrameGroupBy.apply operated on the grouping columns. This behavior is deprecated, and in a future version of pandas the grouping columns will be excluded from the operation. Either pass `include_groups=False` to exclude the groupings or explicitly select the grouping columns after groupby to silence this warning.\n",
      "  sampled_data = data.groupby('start_day', group_keys=False).apply(\n"
     ]
    },
    {
     "name": "stdout",
     "output_type": "stream",
     "text": [
      "Fortschritt: 69.00%"
     ]
    },
    {
     "name": "stderr",
     "output_type": "stream",
     "text": [
      "C:\\Users\\Marc Willberg\\AppData\\Local\\Temp\\ipykernel_26692\\332676640.py:12: DeprecationWarning: DataFrameGroupBy.apply operated on the grouping columns. This behavior is deprecated, and in a future version of pandas the grouping columns will be excluded from the operation. Either pass `include_groups=False` to exclude the groupings or explicitly select the grouping columns after groupby to silence this warning.\n",
      "  sampled_data = data.groupby('start_day', group_keys=False).apply(\n"
     ]
    },
    {
     "name": "stdout",
     "output_type": "stream",
     "text": [
      "Fortschritt: 70.00%"
     ]
    },
    {
     "name": "stderr",
     "output_type": "stream",
     "text": [
      "C:\\Users\\Marc Willberg\\AppData\\Local\\Temp\\ipykernel_26692\\332676640.py:12: DeprecationWarning: DataFrameGroupBy.apply operated on the grouping columns. This behavior is deprecated, and in a future version of pandas the grouping columns will be excluded from the operation. Either pass `include_groups=False` to exclude the groupings or explicitly select the grouping columns after groupby to silence this warning.\n",
      "  sampled_data = data.groupby('start_day', group_keys=False).apply(\n"
     ]
    },
    {
     "name": "stdout",
     "output_type": "stream",
     "text": [
      "Fortschritt: 71.00%"
     ]
    },
    {
     "name": "stderr",
     "output_type": "stream",
     "text": [
      "C:\\Users\\Marc Willberg\\AppData\\Local\\Temp\\ipykernel_26692\\332676640.py:12: DeprecationWarning: DataFrameGroupBy.apply operated on the grouping columns. This behavior is deprecated, and in a future version of pandas the grouping columns will be excluded from the operation. Either pass `include_groups=False` to exclude the groupings or explicitly select the grouping columns after groupby to silence this warning.\n",
      "  sampled_data = data.groupby('start_day', group_keys=False).apply(\n"
     ]
    },
    {
     "name": "stdout",
     "output_type": "stream",
     "text": [
      "Fortschritt: 72.00%"
     ]
    },
    {
     "name": "stderr",
     "output_type": "stream",
     "text": [
      "C:\\Users\\Marc Willberg\\AppData\\Local\\Temp\\ipykernel_26692\\332676640.py:12: DeprecationWarning: DataFrameGroupBy.apply operated on the grouping columns. This behavior is deprecated, and in a future version of pandas the grouping columns will be excluded from the operation. Either pass `include_groups=False` to exclude the groupings or explicitly select the grouping columns after groupby to silence this warning.\n",
      "  sampled_data = data.groupby('start_day', group_keys=False).apply(\n"
     ]
    },
    {
     "name": "stdout",
     "output_type": "stream",
     "text": [
      "Fortschritt: 73.00%"
     ]
    },
    {
     "name": "stderr",
     "output_type": "stream",
     "text": [
      "C:\\Users\\Marc Willberg\\AppData\\Local\\Temp\\ipykernel_26692\\332676640.py:12: DeprecationWarning: DataFrameGroupBy.apply operated on the grouping columns. This behavior is deprecated, and in a future version of pandas the grouping columns will be excluded from the operation. Either pass `include_groups=False` to exclude the groupings or explicitly select the grouping columns after groupby to silence this warning.\n",
      "  sampled_data = data.groupby('start_day', group_keys=False).apply(\n"
     ]
    },
    {
     "name": "stdout",
     "output_type": "stream",
     "text": [
      "Fortschritt: 74.00%"
     ]
    },
    {
     "name": "stderr",
     "output_type": "stream",
     "text": [
      "C:\\Users\\Marc Willberg\\AppData\\Local\\Temp\\ipykernel_26692\\332676640.py:12: DeprecationWarning: DataFrameGroupBy.apply operated on the grouping columns. This behavior is deprecated, and in a future version of pandas the grouping columns will be excluded from the operation. Either pass `include_groups=False` to exclude the groupings or explicitly select the grouping columns after groupby to silence this warning.\n",
      "  sampled_data = data.groupby('start_day', group_keys=False).apply(\n"
     ]
    },
    {
     "name": "stdout",
     "output_type": "stream",
     "text": [
      "Fortschritt: 75.00%"
     ]
    },
    {
     "name": "stderr",
     "output_type": "stream",
     "text": [
      "C:\\Users\\Marc Willberg\\AppData\\Local\\Temp\\ipykernel_26692\\332676640.py:12: DeprecationWarning: DataFrameGroupBy.apply operated on the grouping columns. This behavior is deprecated, and in a future version of pandas the grouping columns will be excluded from the operation. Either pass `include_groups=False` to exclude the groupings or explicitly select the grouping columns after groupby to silence this warning.\n",
      "  sampled_data = data.groupby('start_day', group_keys=False).apply(\n"
     ]
    },
    {
     "name": "stdout",
     "output_type": "stream",
     "text": [
      "Fortschritt: 76.00%"
     ]
    },
    {
     "name": "stderr",
     "output_type": "stream",
     "text": [
      "C:\\Users\\Marc Willberg\\AppData\\Local\\Temp\\ipykernel_26692\\332676640.py:12: DeprecationWarning: DataFrameGroupBy.apply operated on the grouping columns. This behavior is deprecated, and in a future version of pandas the grouping columns will be excluded from the operation. Either pass `include_groups=False` to exclude the groupings or explicitly select the grouping columns after groupby to silence this warning.\n",
      "  sampled_data = data.groupby('start_day', group_keys=False).apply(\n"
     ]
    },
    {
     "name": "stdout",
     "output_type": "stream",
     "text": [
      "Fortschritt: 77.00%"
     ]
    },
    {
     "name": "stderr",
     "output_type": "stream",
     "text": [
      "C:\\Users\\Marc Willberg\\AppData\\Local\\Temp\\ipykernel_26692\\332676640.py:12: DeprecationWarning: DataFrameGroupBy.apply operated on the grouping columns. This behavior is deprecated, and in a future version of pandas the grouping columns will be excluded from the operation. Either pass `include_groups=False` to exclude the groupings or explicitly select the grouping columns after groupby to silence this warning.\n",
      "  sampled_data = data.groupby('start_day', group_keys=False).apply(\n"
     ]
    },
    {
     "name": "stdout",
     "output_type": "stream",
     "text": [
      "Fortschritt: 78.00%"
     ]
    },
    {
     "name": "stderr",
     "output_type": "stream",
     "text": [
      "C:\\Users\\Marc Willberg\\AppData\\Local\\Temp\\ipykernel_26692\\332676640.py:12: DeprecationWarning: DataFrameGroupBy.apply operated on the grouping columns. This behavior is deprecated, and in a future version of pandas the grouping columns will be excluded from the operation. Either pass `include_groups=False` to exclude the groupings or explicitly select the grouping columns after groupby to silence this warning.\n",
      "  sampled_data = data.groupby('start_day', group_keys=False).apply(\n"
     ]
    },
    {
     "name": "stdout",
     "output_type": "stream",
     "text": [
      "Fortschritt: 79.00%"
     ]
    },
    {
     "name": "stderr",
     "output_type": "stream",
     "text": [
      "C:\\Users\\Marc Willberg\\AppData\\Local\\Temp\\ipykernel_26692\\332676640.py:12: DeprecationWarning: DataFrameGroupBy.apply operated on the grouping columns. This behavior is deprecated, and in a future version of pandas the grouping columns will be excluded from the operation. Either pass `include_groups=False` to exclude the groupings or explicitly select the grouping columns after groupby to silence this warning.\n",
      "  sampled_data = data.groupby('start_day', group_keys=False).apply(\n"
     ]
    },
    {
     "name": "stdout",
     "output_type": "stream",
     "text": [
      "Fortschritt: 80.00%"
     ]
    },
    {
     "name": "stderr",
     "output_type": "stream",
     "text": [
      "C:\\Users\\Marc Willberg\\AppData\\Local\\Temp\\ipykernel_26692\\332676640.py:12: DeprecationWarning: DataFrameGroupBy.apply operated on the grouping columns. This behavior is deprecated, and in a future version of pandas the grouping columns will be excluded from the operation. Either pass `include_groups=False` to exclude the groupings or explicitly select the grouping columns after groupby to silence this warning.\n",
      "  sampled_data = data.groupby('start_day', group_keys=False).apply(\n"
     ]
    },
    {
     "name": "stdout",
     "output_type": "stream",
     "text": [
      "Fortschritt: 81.00%"
     ]
    },
    {
     "name": "stderr",
     "output_type": "stream",
     "text": [
      "C:\\Users\\Marc Willberg\\AppData\\Local\\Temp\\ipykernel_26692\\332676640.py:12: DeprecationWarning: DataFrameGroupBy.apply operated on the grouping columns. This behavior is deprecated, and in a future version of pandas the grouping columns will be excluded from the operation. Either pass `include_groups=False` to exclude the groupings or explicitly select the grouping columns after groupby to silence this warning.\n",
      "  sampled_data = data.groupby('start_day', group_keys=False).apply(\n"
     ]
    },
    {
     "name": "stdout",
     "output_type": "stream",
     "text": [
      "Fortschritt: 82.00%"
     ]
    },
    {
     "name": "stderr",
     "output_type": "stream",
     "text": [
      "C:\\Users\\Marc Willberg\\AppData\\Local\\Temp\\ipykernel_26692\\332676640.py:12: DeprecationWarning: DataFrameGroupBy.apply operated on the grouping columns. This behavior is deprecated, and in a future version of pandas the grouping columns will be excluded from the operation. Either pass `include_groups=False` to exclude the groupings or explicitly select the grouping columns after groupby to silence this warning.\n",
      "  sampled_data = data.groupby('start_day', group_keys=False).apply(\n"
     ]
    },
    {
     "name": "stdout",
     "output_type": "stream",
     "text": [
      "Fortschritt: 83.00%"
     ]
    },
    {
     "name": "stderr",
     "output_type": "stream",
     "text": [
      "C:\\Users\\Marc Willberg\\AppData\\Local\\Temp\\ipykernel_26692\\332676640.py:12: DeprecationWarning: DataFrameGroupBy.apply operated on the grouping columns. This behavior is deprecated, and in a future version of pandas the grouping columns will be excluded from the operation. Either pass `include_groups=False` to exclude the groupings or explicitly select the grouping columns after groupby to silence this warning.\n",
      "  sampled_data = data.groupby('start_day', group_keys=False).apply(\n"
     ]
    },
    {
     "name": "stdout",
     "output_type": "stream",
     "text": [
      "Fortschritt: 84.00%"
     ]
    },
    {
     "name": "stderr",
     "output_type": "stream",
     "text": [
      "C:\\Users\\Marc Willberg\\AppData\\Local\\Temp\\ipykernel_26692\\332676640.py:12: DeprecationWarning: DataFrameGroupBy.apply operated on the grouping columns. This behavior is deprecated, and in a future version of pandas the grouping columns will be excluded from the operation. Either pass `include_groups=False` to exclude the groupings or explicitly select the grouping columns after groupby to silence this warning.\n",
      "  sampled_data = data.groupby('start_day', group_keys=False).apply(\n"
     ]
    },
    {
     "name": "stdout",
     "output_type": "stream",
     "text": [
      "Fortschritt: 85.00%"
     ]
    },
    {
     "name": "stderr",
     "output_type": "stream",
     "text": [
      "C:\\Users\\Marc Willberg\\AppData\\Local\\Temp\\ipykernel_26692\\332676640.py:12: DeprecationWarning: DataFrameGroupBy.apply operated on the grouping columns. This behavior is deprecated, and in a future version of pandas the grouping columns will be excluded from the operation. Either pass `include_groups=False` to exclude the groupings or explicitly select the grouping columns after groupby to silence this warning.\n",
      "  sampled_data = data.groupby('start_day', group_keys=False).apply(\n"
     ]
    },
    {
     "name": "stdout",
     "output_type": "stream",
     "text": [
      "Fortschritt: 86.00%"
     ]
    },
    {
     "name": "stderr",
     "output_type": "stream",
     "text": [
      "C:\\Users\\Marc Willberg\\AppData\\Local\\Temp\\ipykernel_26692\\332676640.py:12: DeprecationWarning: DataFrameGroupBy.apply operated on the grouping columns. This behavior is deprecated, and in a future version of pandas the grouping columns will be excluded from the operation. Either pass `include_groups=False` to exclude the groupings or explicitly select the grouping columns after groupby to silence this warning.\n",
      "  sampled_data = data.groupby('start_day', group_keys=False).apply(\n"
     ]
    },
    {
     "name": "stdout",
     "output_type": "stream",
     "text": [
      "Fortschritt: 87.00%"
     ]
    },
    {
     "name": "stderr",
     "output_type": "stream",
     "text": [
      "C:\\Users\\Marc Willberg\\AppData\\Local\\Temp\\ipykernel_26692\\332676640.py:12: DeprecationWarning: DataFrameGroupBy.apply operated on the grouping columns. This behavior is deprecated, and in a future version of pandas the grouping columns will be excluded from the operation. Either pass `include_groups=False` to exclude the groupings or explicitly select the grouping columns after groupby to silence this warning.\n",
      "  sampled_data = data.groupby('start_day', group_keys=False).apply(\n"
     ]
    },
    {
     "name": "stdout",
     "output_type": "stream",
     "text": [
      "Fortschritt: 88.00%"
     ]
    },
    {
     "name": "stderr",
     "output_type": "stream",
     "text": [
      "C:\\Users\\Marc Willberg\\AppData\\Local\\Temp\\ipykernel_26692\\332676640.py:12: DeprecationWarning: DataFrameGroupBy.apply operated on the grouping columns. This behavior is deprecated, and in a future version of pandas the grouping columns will be excluded from the operation. Either pass `include_groups=False` to exclude the groupings or explicitly select the grouping columns after groupby to silence this warning.\n",
      "  sampled_data = data.groupby('start_day', group_keys=False).apply(\n"
     ]
    },
    {
     "name": "stdout",
     "output_type": "stream",
     "text": [
      "Fortschritt: 89.00%"
     ]
    },
    {
     "name": "stderr",
     "output_type": "stream",
     "text": [
      "C:\\Users\\Marc Willberg\\AppData\\Local\\Temp\\ipykernel_26692\\332676640.py:12: DeprecationWarning: DataFrameGroupBy.apply operated on the grouping columns. This behavior is deprecated, and in a future version of pandas the grouping columns will be excluded from the operation. Either pass `include_groups=False` to exclude the groupings or explicitly select the grouping columns after groupby to silence this warning.\n",
      "  sampled_data = data.groupby('start_day', group_keys=False).apply(\n"
     ]
    },
    {
     "name": "stdout",
     "output_type": "stream",
     "text": [
      "Fortschritt: 90.00%"
     ]
    },
    {
     "name": "stderr",
     "output_type": "stream",
     "text": [
      "C:\\Users\\Marc Willberg\\AppData\\Local\\Temp\\ipykernel_26692\\332676640.py:12: DeprecationWarning: DataFrameGroupBy.apply operated on the grouping columns. This behavior is deprecated, and in a future version of pandas the grouping columns will be excluded from the operation. Either pass `include_groups=False` to exclude the groupings or explicitly select the grouping columns after groupby to silence this warning.\n",
      "  sampled_data = data.groupby('start_day', group_keys=False).apply(\n"
     ]
    },
    {
     "name": "stdout",
     "output_type": "stream",
     "text": [
      "Fortschritt: 91.00%"
     ]
    },
    {
     "name": "stderr",
     "output_type": "stream",
     "text": [
      "C:\\Users\\Marc Willberg\\AppData\\Local\\Temp\\ipykernel_26692\\332676640.py:12: DeprecationWarning: DataFrameGroupBy.apply operated on the grouping columns. This behavior is deprecated, and in a future version of pandas the grouping columns will be excluded from the operation. Either pass `include_groups=False` to exclude the groupings or explicitly select the grouping columns after groupby to silence this warning.\n",
      "  sampled_data = data.groupby('start_day', group_keys=False).apply(\n"
     ]
    },
    {
     "name": "stdout",
     "output_type": "stream",
     "text": [
      "Fortschritt: 92.00%"
     ]
    },
    {
     "name": "stderr",
     "output_type": "stream",
     "text": [
      "C:\\Users\\Marc Willberg\\AppData\\Local\\Temp\\ipykernel_26692\\332676640.py:12: DeprecationWarning: DataFrameGroupBy.apply operated on the grouping columns. This behavior is deprecated, and in a future version of pandas the grouping columns will be excluded from the operation. Either pass `include_groups=False` to exclude the groupings or explicitly select the grouping columns after groupby to silence this warning.\n",
      "  sampled_data = data.groupby('start_day', group_keys=False).apply(\n"
     ]
    },
    {
     "name": "stdout",
     "output_type": "stream",
     "text": [
      "Fortschritt: 93.00%"
     ]
    },
    {
     "name": "stderr",
     "output_type": "stream",
     "text": [
      "C:\\Users\\Marc Willberg\\AppData\\Local\\Temp\\ipykernel_26692\\332676640.py:12: DeprecationWarning: DataFrameGroupBy.apply operated on the grouping columns. This behavior is deprecated, and in a future version of pandas the grouping columns will be excluded from the operation. Either pass `include_groups=False` to exclude the groupings or explicitly select the grouping columns after groupby to silence this warning.\n",
      "  sampled_data = data.groupby('start_day', group_keys=False).apply(\n"
     ]
    },
    {
     "name": "stdout",
     "output_type": "stream",
     "text": [
      "Fortschritt: 94.00%"
     ]
    },
    {
     "name": "stderr",
     "output_type": "stream",
     "text": [
      "C:\\Users\\Marc Willberg\\AppData\\Local\\Temp\\ipykernel_26692\\332676640.py:12: DeprecationWarning: DataFrameGroupBy.apply operated on the grouping columns. This behavior is deprecated, and in a future version of pandas the grouping columns will be excluded from the operation. Either pass `include_groups=False` to exclude the groupings or explicitly select the grouping columns after groupby to silence this warning.\n",
      "  sampled_data = data.groupby('start_day', group_keys=False).apply(\n"
     ]
    },
    {
     "name": "stdout",
     "output_type": "stream",
     "text": [
      "Fortschritt: 95.00%"
     ]
    },
    {
     "name": "stderr",
     "output_type": "stream",
     "text": [
      "C:\\Users\\Marc Willberg\\AppData\\Local\\Temp\\ipykernel_26692\\332676640.py:12: DeprecationWarning: DataFrameGroupBy.apply operated on the grouping columns. This behavior is deprecated, and in a future version of pandas the grouping columns will be excluded from the operation. Either pass `include_groups=False` to exclude the groupings or explicitly select the grouping columns after groupby to silence this warning.\n",
      "  sampled_data = data.groupby('start_day', group_keys=False).apply(\n"
     ]
    },
    {
     "name": "stdout",
     "output_type": "stream",
     "text": [
      "Fortschritt: 96.00%"
     ]
    },
    {
     "name": "stderr",
     "output_type": "stream",
     "text": [
      "C:\\Users\\Marc Willberg\\AppData\\Local\\Temp\\ipykernel_26692\\332676640.py:12: DeprecationWarning: DataFrameGroupBy.apply operated on the grouping columns. This behavior is deprecated, and in a future version of pandas the grouping columns will be excluded from the operation. Either pass `include_groups=False` to exclude the groupings or explicitly select the grouping columns after groupby to silence this warning.\n",
      "  sampled_data = data.groupby('start_day', group_keys=False).apply(\n"
     ]
    },
    {
     "name": "stdout",
     "output_type": "stream",
     "text": [
      "Fortschritt: 97.00%"
     ]
    },
    {
     "name": "stderr",
     "output_type": "stream",
     "text": [
      "C:\\Users\\Marc Willberg\\AppData\\Local\\Temp\\ipykernel_26692\\332676640.py:12: DeprecationWarning: DataFrameGroupBy.apply operated on the grouping columns. This behavior is deprecated, and in a future version of pandas the grouping columns will be excluded from the operation. Either pass `include_groups=False` to exclude the groupings or explicitly select the grouping columns after groupby to silence this warning.\n",
      "  sampled_data = data.groupby('start_day', group_keys=False).apply(\n"
     ]
    },
    {
     "name": "stdout",
     "output_type": "stream",
     "text": [
      "Fortschritt: 98.00%"
     ]
    },
    {
     "name": "stderr",
     "output_type": "stream",
     "text": [
      "C:\\Users\\Marc Willberg\\AppData\\Local\\Temp\\ipykernel_26692\\332676640.py:12: DeprecationWarning: DataFrameGroupBy.apply operated on the grouping columns. This behavior is deprecated, and in a future version of pandas the grouping columns will be excluded from the operation. Either pass `include_groups=False` to exclude the groupings or explicitly select the grouping columns after groupby to silence this warning.\n",
      "  sampled_data = data.groupby('start_day', group_keys=False).apply(\n"
     ]
    },
    {
     "name": "stdout",
     "output_type": "stream",
     "text": [
      "Fortschritt: 99.00%"
     ]
    },
    {
     "name": "stderr",
     "output_type": "stream",
     "text": [
      "C:\\Users\\Marc Willberg\\AppData\\Local\\Temp\\ipykernel_26692\\332676640.py:12: DeprecationWarning: DataFrameGroupBy.apply operated on the grouping columns. This behavior is deprecated, and in a future version of pandas the grouping columns will be excluded from the operation. Either pass `include_groups=False` to exclude the groupings or explicitly select the grouping columns after groupby to silence this warning.\n",
      "  sampled_data = data.groupby('start_day', group_keys=False).apply(\n"
     ]
    },
    {
     "name": "stdout",
     "output_type": "stream",
     "text": [
      "Fortschritt: 100.00%\n",
      "Keine gute Stichprobe gefunden.\n",
      "Keine gute Stichprobe gefunden.\n"
     ]
    }
   ],
   "source": [
    "import pandas as pd\n",
    "import numpy as np\n",
    "from scipy.stats import ks_2samp\n",
    "import time\n",
    "import matplotlib.pyplot as plt\n",
    "\n",
    "# Konvertieren Sie die Liste von TaxiTripFeatures-Objekten in einen DataFrame\n",
    "data = pd.DataFrame([vars(feature) for feature in features_list])\n",
    "\n",
    "# Funktionen zum Ziehen von Stichproben\n",
    "def sample_data_per_day(data, sample_size_per_day=10000):\n",
    "    sampled_data = data.groupby('start_day', group_keys=False).apply(\n",
    "        lambda x: x.sample(n=sample_size_per_day, random_state=42) if len(x) > sample_size_per_day else x\n",
    "    ).reset_index(drop=True)\n",
    "    return sampled_data\n",
    "\n",
    "# Kolmogorov-Smirnov-Test für alle Merkmale durchführen\n",
    "def ks_test(data, sample):\n",
    "    ks_results = {}\n",
    "    for column in data.columns:\n",
    "        if data[column].dtype in [np.float64, np.int64]:\n",
    "            statistic, p_value = ks_2samp(data[column].dropna(), sample[column].dropna())\n",
    "            ks_results[column] = {'KS-Statistik': statistic, 'p-Wert': p_value}\n",
    "    return ks_results\n",
    "\n",
    "# Funktion zur Überprüfung, ob die Stichprobe gut ist\n",
    "def is_sample_good(ks_results, p_value_threshold=0.9):  # Schwellenwert auf 0.9 erhöht\n",
    "    for result in ks_results.values():\n",
    "        if result['p-Wert'] < p_value_threshold:\n",
    "            return False\n",
    "    return True\n",
    "\n",
    "# Wiederholte Stichprobenziehung und Überprüfung\n",
    "def repeated_sampling(data, max_iterations=100, sample_size_per_day=10000, p_value_threshold=0.9):\n",
    "    for iteration in range(max_iterations):\n",
    "        sampled_data = sample_data_per_day(data, sample_size_per_day)\n",
    "        ks_results = ks_test(data, sampled_data)\n",
    "        if is_sample_good(ks_results, p_value_threshold):\n",
    "            print(f\"Gute Stichprobe nach {iteration + 1} Iterationen gefunden.\")\n",
    "            return sampled_data, ks_results\n",
    "        \n",
    "        progress = (iteration + 1) / max_iterations * 100\n",
    "        print(f\"\\rFortschritt: {progress:.2f}%\", end='')\n",
    "\n",
    "    print(\"\\nKeine gute Stichprobe gefunden.\")\n",
    "    return None, None\n",
    "\n",
    "# Ziehen der Stichprobe mit wiederholter Überprüfung\n",
    "start_time = time.time()\n",
    "sampled_data, ks_results = repeated_sampling(data)\n",
    "end_time = time.time()\n",
    "\n",
    "# Ausgabe der Zeit und Anzahl der Datensätze\n",
    "if sampled_data is not None:\n",
    "    print(f\"\\nData sampling complete! Total time taken: {end_time - start_time:.2f} seconds.\")\n",
    "    print(f\"Anzahl der Stichprobendatensätze: {len(sampled_data)}\")\n",
    "    print(\"\\nKolmogorov-Smirnov-Test Ergebnisse:\")\n",
    "    for column, result in ks_results.items():\n",
    "        print(f\"{column}: KS-Statistik = {result['KS-Statistik']:.3f}, p-Wert = {result['p-Wert']:.3f}\")\n",
    "    \n",
    "    # Visualisierung der Verteilung\n",
    "    def plot_distributions(data, sample, columns):\n",
    "        for column in columns:\n",
    "            if data[column].dtype in [np.float64, np.int64]:\n",
    "                plt.figure(figsize=(12, 6))\n",
    "                plt.hist(data[column], bins=50, alpha=0.5, label='Population')\n",
    "                plt.hist(sample[column], bins=50, alpha=0.5, label='Sample')\n",
    "                plt.title(f'Distribution of {column}')\n",
    "                plt.legend(loc='upper right')\n",
    "                plt.show()\n",
    "    \n",
    "    # Beispielverteilung für ausgewählte Merkmale plotten\n",
    "    plot_distributions(data, sampled_data, ['travel_time', 'passenger_count', 'trip_distance', 'tip_amount', 'total_amount_without_tip'])\n",
    "else:\n",
    "    print(\"Keine gute Stichprobe gefunden.\")\n"
   ]
  },
  {
   "cell_type": "markdown",
   "id": "b570fb0a-972a-4801-8cd9-5971328cfd7e",
   "metadata": {},
   "source": [
    "<h3>Überprüfung der Stichprobe:</h3> Stichprobe wird auf Varianz und Divesität geprüft. Dies ist notwendig um Sicherzustellen ob die Stichprobe die gesamten Datenmengen gut abbildet."
   ]
  },
  {
   "cell_type": "code",
   "execution_count": 16,
   "id": "9b21c3c8-0a2d-455a-8991-8b0b5f437aa4",
   "metadata": {},
   "outputs": [
    {
     "ename": "SyntaxError",
     "evalue": "incomplete input (4170697734.py, line 23)",
     "output_type": "error",
     "traceback": [
      "\u001b[1;36m  Cell \u001b[1;32mIn[16], line 23\u001b[1;36m\u001b[0m\n\u001b[1;33m    ks_results[column] = {'KS-Statistik': statistic,\u001b[0m\n\u001b[1;37m                                                    ^\u001b[0m\n\u001b[1;31mSyntaxError\u001b[0m\u001b[1;31m:\u001b[0m incomplete input\n"
     ]
    }
   ],
   "source": []
  },
  {
   "cell_type": "code",
   "execution_count": null,
   "id": "5fbe3dd2-152e-4f20-886f-66eaf8a98a61",
   "metadata": {},
   "outputs": [],
   "source": [
    "import pandas as pd\n",
    "import numpy as np\n",
    "import matplotlib.pyplot as plt\n",
    "from scipy.stats import ks_2samp\n",
    "import time\n",
    "\n",
    "# Konvertieren Sie die Liste von TaxiTripFeatures-Objekten in einen DataFrame\n",
    "data = pd.DataFrame([vars(feature) for feature in features_list])\n",
    "\n",
    "# Funktionen zum Ziehen von Stichproben\n",
    "def sample_data_per_day(data, sample_size_per_day=5000):\n",
    "    sampled_data = data.groupby('start_day', group_keys=False, as_index=False).apply(\n",
    "        lambda x: x.sample(n=sample_size_per_day, random_state=42) if len(x) > sample_size_per_day else x\n",
    "    ).reset_index(drop=True)\n",
    "    return sampled_data\n",
    "\n",
    "# Kolmogorov-Smirnov-Test für alle Merkmale eines Tages durchführen\n",
    "def ks_test_day(data_day, sample_day):\n",
    "    ks_results = {}\n",
    "    for column in data_day.columns:\n",
    "        if data_day[column].dtype in [np.float64, np.int64]:\n",
    "            statistic, p_value = ks_2samp(data_day[column], sample_day[column])\n",
    "            ks_results[column] = {'KS-Statistik': statistic, 'p-Wert': p_value}\n",
    "    return ks_results\n",
    "\n",
    "# Funktion zur Überprüfung, ob die Tagesstichprobe gut ist\n",
    "def is_sample_good_day(ks_results, p_value_threshold=0.05):\n",
    "    for result in ks_results.values():\n",
    "        if result['p-Wert'] < p_value_threshold:\n",
    "            return False\n",
    "    return True\n",
    "\n",
    "# Wiederholte Stichprobenziehung und Überprüfung für jeden Tag\n",
    "def repeated_sampling_per_day(data, max_iterations=100, sample_size_per_day=5000, p_value_threshold=0.05):\n",
    "    days = data['start_day'].unique()\n",
    "    total_days = len(days)\n",
    "    final_sample = pd.DataFrame()\n",
    "    for i, day in enumerate(days):\n",
    "        day_data = data[data['start_day'] == day]\n",
    "        for iteration in range(max_iterations):\n",
    "            sample_day = sample_data_per_day(day_data, sample_size_per_day)\n",
    "            ks_results = ks_test_day(day_data, sample_day)\n",
    "            if is_sample_good_day(ks_results, p_value_threshold):\n",
    "                #print(f\"Gute Stichprobe für Tag {day} nach {iteration + 1} Iterationen gefunden.\")\n",
    "                final_sample = pd.concat([final_sample, sample_day], ignore_index=True)\n",
    "                break\n",
    "        else:\n",
    "            print(f\"Keine gute Stichprobe für Tag {day} nach {max_iterations} Iterationen gefunden.\")\n",
    "    return final_sample\n",
    "\n",
    "# Ziehen der Stichprobe mit wiederholter Überprüfung für jeden Tag\n",
    "sampled_data = repeated_sampling_per_day(data)\n",
    "\n",
    "# Ausgabe der Zeit und Anzahl der Datensätze\n",
    "print(f\"Anzahl der Stichprobendatensätze: {len(sampled_data)}\")\n",
    "\n",
    "# Optionale Ausgabe der Stichprobe und KS-Testergebnisse\n",
    "for column in ['travel_time', 'passenger_count', 'trip_distance', 'tip_amount', 'total_amount_without_tip']:\n",
    "    statistic, p_value = ks_test_day(data, sampled_data)[column]['KS-Statistik'], ks_test_day(data, sampled_data)[column]['p-Wert']\n",
    "    print(f\"{column}: KS-Statistik = {statistic:.3f}, p-Wert = {p_value:.3f}\")\n"
   ]
  },
  {
   "cell_type": "markdown",
   "id": "dcf41356-6edd-4a9d-83ae-94bb94cc8208",
   "metadata": {},
   "source": [
    "<h2>Außreiser entfernen: </h2>"
   ]
  },
  {
   "cell_type": "code",
   "execution_count": 25,
   "id": "70861a66-944f-428a-8cc1-e55dd4d4e6bd",
   "metadata": {},
   "outputs": [
    {
     "name": "stdout",
     "output_type": "stream",
     "text": [
      "Varianz der gesamten Population: 1.9741699707118414\n",
      "Varianz der Stichprobe: 2.017331121289521\n",
      "Standardabweichung der gesamten Population: 1.4050515900534903\n",
      "Standardabweichung der Stichprobe: 1.4203278217684538\n"
     ]
    },
    {
     "data": {
      "image/png": "[encoded data removed]",
      "text/plain": [
       "<Figure size 1200x600 with 2 Axes>"
      ]
     },
     "metadata": {},
     "output_type": "display_data"
    }
   ],
   "source": [
    "def remove_outliers(data, column):\n",
    "    Q1 = data[column].quantile(0.25)\n",
    "    Q3 = data[column].quantile(0.75)\n",
    "    IQR = Q3 - Q1\n",
    "    lower_bound = Q1 - 1.5 * IQR\n",
    "    upper_bound = Q3 + 1.5 * IQR\n",
    "    filtered_data = data[(data[column] >= lower_bound) & (data[column] <= upper_bound)]\n",
    "    return filtered_data\n",
    "\n",
    "# Entfernen der Ausreißer aus der gesamten Population und der Stichprobe\n",
    "filtered_data = remove_outliers(pd.read_parquet(path), 'trip_distance')\n",
    "filtered_sampled_data = remove_outliers(sampled_data, 'trip_distance')\n",
    "\n",
    "# Vergleich der Variabilität nach Entfernung der Ausreißer\n",
    "analyze_variability(data=filtered_data, sampled_data=filtered_sampled_data, column='trip_distance')"
   ]
  },
  {
   "cell_type": "markdown",
   "id": "a7a9764b-4c9d-41dd-a69d-55ac3804a6fb",
   "metadata": {},
   "source": [
    "Da die Stichprobe die Population gut repräsentiert, sollte sie sowohl für lineare Regression als auch für Random Forest geeignet sein."
   ]
  },
  {
   "cell_type": "markdown",
   "id": "4323eb8c-82f2-47cd-82eb-d8f909892f45",
   "metadata": {},
   "source": [
    "<h1>Lieare Regression:</h1>"
   ]
  },
  {
   "cell_type": "code",
   "execution_count": null,
   "id": "7d04080b-e2fc-4ca3-8835-f91756b7f316",
   "metadata": {},
   "outputs": [],
   "source": []
  },
  {
   "cell_type": "code",
   "execution_count": 27,
   "id": "735b1381-aba2-4fff-a880-c82fbd3f3f2a",
   "metadata": {},
   "outputs": [
    {
     "name": "stdout",
     "output_type": "stream",
     "text": [
      "Korrelationsmatrix:\n",
      "travel_time                 0.160575\n",
      "start_month                 0.000759\n",
      "start_day                  -0.006594\n",
      "start_hour                  0.025217\n",
      "weekday                    -0.020122\n",
      "passenger_count             0.010892\n",
      "trip_distance               0.085438\n",
      "PULocationID               -0.068206\n",
      "DOLocationID               -0.049295\n",
      "tip_amount                  1.000000\n",
      "total_amount_without_tip    0.595072\n",
      "Name: tip_amount, dtype: float64\n"
     ]
    },
    {
     "data": {
      "image/png": "[encoded data removed]",
      "text/plain": [
       "<Figure size 4000x400 with 10 Axes>"
      ]
     },
     "metadata": {},
     "output_type": "display_data"
    },
    {
     "name": "stdout",
     "output_type": "stream",
     "text": [
      "Mean Squared Error: 10.903392561562475\n",
      "R^2 Score: 0.3688609691015494\n",
      "Koeffizienten:\n",
      "                           Coefficient\n",
      "travel_time               1.275729e-05\n",
      "start_month               2.762557e-02\n",
      "start_day                -3.499865e-03\n",
      "start_hour                1.336273e-02\n",
      "weekday                  -1.554307e-02\n",
      "passenger_count          -5.149451e-02\n",
      "trip_distance             8.172938e-04\n",
      "PULocationID              8.255915e-07\n",
      "DOLocationID              1.729262e-04\n",
      "total_amount_without_tip  1.143047e-01\n"
     ]
    },
    {
     "data": {
      "image/png": "[encoded data removed]",
      "text/plain": [
       "<Figure size 1000x600 with 1 Axes>"
      ]
     },
     "metadata": {},
     "output_type": "display_data"
    }
   ],
   "source": [
    "import pandas as pd\n",
    "from matplotlib import pyplot as plt\n",
    "import seaborn as sns\n",
    "from sklearn.linear_model import LinearRegression\n",
    "from sklearn.model_selection import train_test_split\n",
    "from sklearn.metrics import mean_squared_error, r2_score\n",
    "\n",
    "# Daten laden\n",
    "path = 'C:\\\\Users\\\\Marc Willberg\\\\Studienarbeit_Predictive_Analytics\\\\Data_Taxi_Trip_NY\\\\2023\\\\yellow_tripdata_2023-05.parquet'\n",
    "data = pd.read_parquet(path)\n",
    "\n",
    "# Feature-Engineering\n",
    "data['tpep_pickup_datetime'] = pd.to_datetime(data['tpep_pickup_datetime'])\n",
    "data['travel_time'] = (pd.to_datetime(data['tpep_dropoff_datetime']) - data['tpep_pickup_datetime']).dt.total_seconds()\n",
    "data['start_month'] = data['tpep_pickup_datetime'].dt.month\n",
    "data['start_day'] = data['tpep_pickup_datetime'].dt.day\n",
    "data['start_hour'] = data['tpep_pickup_datetime'].dt.hour\n",
    "data['weekday'] = data['tpep_pickup_datetime'].dt.weekday\n",
    "data['total_amount_without_tip'] = data['total_amount'] - data['tip_amount']\n",
    "\n",
    "# Relevante Spalten auswählen\n",
    "columns = ['travel_time', 'start_month', 'start_day', 'start_hour', 'weekday', 'passenger_count', \n",
    "           'trip_distance', 'PULocationID', 'DOLocationID', 'tip_amount', 'total_amount_without_tip']\n",
    "data = data[columns]\n",
    "\n",
    "# Entfernen von Zeilen mit fehlenden Werten\n",
    "data.dropna(inplace=True)\n",
    "\n",
    "# Korrelation berechnen\n",
    "correlation_matrix = data.corr()\n",
    "print(\"Korrelationsmatrix:\")\n",
    "print(correlation_matrix['tip_amount'])\n",
    "\n",
    "# Streudiagramme erstellen\n",
    "sns.pairplot(data, x_vars=['travel_time', 'start_month', 'start_day', 'start_hour', 'weekday', \n",
    "                           'passenger_count', 'trip_distance', 'PULocationID', 'DOLocationID', \n",
    "                           'total_amount_without_tip'], y_vars='tip_amount', kind='scatter', height=4)\n",
    "plt.show()\n",
    "\n",
    "# Lineare Regression\n",
    "X = data.drop(['tip_amount'], axis=1)\n",
    "y = data['tip_amount']\n",
    "\n",
    "# Aufteilen der Daten in Trainings- und Testdaten\n",
    "X_train, X_test, y_train, y_test = train_test_split(X, y, test_size=0.2, random_state=42)\n",
    "\n",
    "# Modell erstellen und trainieren\n",
    "model = LinearRegression()\n",
    "model.fit(X_train, y_train)\n",
    "\n",
    "# Vorhersagen treffen\n",
    "y_pred = model.predict(X_test)\n",
    "\n",
    "# Auswertung des Modells\n",
    "mse = mean_squared_error(y_test, y_pred)\n",
    "r2 = r2_score(y_test, y_pred)\n",
    "print(f\"Mean Squared Error: {mse}\")\n",
    "print(f\"R^2 Score: {r2}\")\n",
    "\n",
    "# Koeffizienten und Intercept ausgeben\n",
    "coefficients = pd.DataFrame(model.coef_, X.columns, columns=['Coefficient'])\n",
    "print(\"Koeffizienten:\")\n",
    "print(coefficients)\n",
    "\n",
    "# Streudiagramme mit den Residuen\n",
    "residuals = y_test - y_pred\n",
    "plt.figure(figsize=(10, 6))\n",
    "plt.scatter(y_pred, residuals, alpha=0.5)\n",
    "plt.axhline(0, color='red', linestyle='--')\n",
    "plt.xlabel('Predicted Tip Amount')\n",
    "plt.ylabel('Residuals')\n",
    "plt.title('Residuals vs Predicted Tip Amount')\n",
    "plt.show()\n"
   ]
  },
  {
   "cell_type": "code",
   "execution_count": null,
   "id": "94f9bdfa-a384-410f-ae0a-acd98600d309",
   "metadata": {},
   "outputs": [],
   "source": []
  }
 ],
 "metadata": {
  "kernelspec": {
   "display_name": "Python 3 (ipykernel)",
   "language": "python",
   "name": "python3"
  },
  "language_info": {
   "codemirror_mode": {
    "name": "ipython",
    "version": 3
   },
   "file_extension": ".py",
   "mimetype": "text/x-python",
   "name": "python",
   "nbconvert_exporter": "python",
   "pygments_lexer": "ipython3",
   "version": "3.12.3"
  }
 },
 "nbformat": 4,
 "nbformat_minor": 5
}
